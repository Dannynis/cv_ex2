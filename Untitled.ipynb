{
 "cells": [
  {
   "cell_type": "code",
   "execution_count": 1,
   "metadata": {},
   "outputs": [],
   "source": [
    "import numpy as np\n",
    "from scipy.signal import convolve2d\n"
   ]
  },
  {
   "cell_type": "code",
   "execution_count": 2,
   "metadata": {},
   "outputs": [],
   "source": [
    "from main import load_data\n",
    "import matplotlib.pyplot as plt"
   ]
  },
  {
   "cell_type": "code",
   "execution_count": 3,
   "metadata": {},
   "outputs": [],
   "source": [
    "left_image, right_image = load_data()"
   ]
  },
  {
   "cell_type": "code",
   "execution_count": 4,
   "metadata": {},
   "outputs": [],
   "source": [
    "as_strided = np.lib.stride_tricks.as_strided"
   ]
  },
  {
   "cell_type": "code",
   "execution_count": 5,
   "metadata": {},
   "outputs": [],
   "source": [
    "win_size = 3\n",
    "dsp_range = 20"
   ]
  },
  {
   "cell_type": "code",
   "execution_count": 6,
   "metadata": {},
   "outputs": [],
   "source": [
    "# def pad_image_one_side(img, amount, side):\n",
    "#     if side == 'l':\n",
    "#         amount_padding = (amount, 0)\n",
    "#     else:\n",
    "#         amount_padding = (0, amount)\n",
    "#     img = np.stack(\n",
    "#         [np.pad(img[:, :, c], ((0, 0), amount_padding), mode='constant', constant_values=0) for c in range(img.shape[-1])],\n",
    "#         axis=2)\n",
    "#     return img, amount_padding\n",
    "\n",
    "# def pad_image(img, pad,amount_padding):\n",
    "#     x_pad = np.array((pad,pad))-np.array(amount_padding).clip(0,None)\n",
    "#     x_pad_cliped = np.clip(x_pad,a_min=0,a_max=None)\n",
    "#     img = np.pad(img, ((pad,pad),x_pad_cliped), mode='constant', constant_values=0)\n",
    "#     return img, x_pad\n",
    "\n",
    "# def disperity_shift_diff(left_image, right_image, dsp):\n",
    "#     if dsp > 0:\n",
    "#         left_image_shifted,amount_padding = pad_image_one_side(left_image, dsp, 'l')\n",
    "#         right_image_shifted,_ = pad_image_one_side(right_image, dsp, 'r')\n",
    "#     elif dsp < 0:\n",
    "#         left_image_shifted,amount_padding = pad_image_one_side(left_image, -1 * dsp, 'r')\n",
    "#         right_image_shifted,_ = pad_image_one_side(right_image, -1 * dsp, 'l')\n",
    "#     else:\n",
    "#         left_image_shifted, right_image_shifted = left_image, right_image\n",
    "#         amount_padding = (0,0)\n",
    "#     diff = (left_image_shifted - right_image_shifted) ** 2\n",
    "#     diff = diff.sum(axis=-1)\n",
    "#     return diff,amount_padding\n",
    "\n",
    "# def strided_view(A, kernel_size, stride):\n",
    "#     output_shape = ((A.shape[0] - kernel_size) // stride + 1,\n",
    "#                     (A.shape[1] - kernel_size) // stride + 1)\n",
    "\n",
    "#     shape_w = (output_shape[0], output_shape[1], kernel_size, kernel_size)\n",
    "#     strides_w = (stride * A.strides[0], stride * A.strides[1], A.strides[0], A.strides[1])\n",
    "\n",
    "#     A_w = as_strided(A, shape_w, strides_w)\n",
    "#     return A_w\n",
    "\n",
    "# def calc_disperity(left_image, right_image, win_size, dsp):\n",
    "#     padding_size = int(np.floor(win_size / 2))\n",
    "#     diff,amount_padding = disperity_shift_diff(left_image, right_image, dsp)\n",
    "#     padded_diff,padding = pad_image(diff,padding_size, amount_padding)\n",
    "#     l,r = np.clip(padding,None,0)* -1\n",
    "#     sum_pool = strided_view(padded_diff, win_size, 1).sum(axis=(2, 3))\n",
    "#     sum_pool = sum_pool[:,l:sum_pool.shape[1]-r]\n",
    "#     return sum_pool\n",
    "\n",
    "# def ssd_distance(left_image: np.ndarray,\n",
    "#                  right_image: np.ndarray,\n",
    "#                  win_size: int,\n",
    "#                  dsp_range: int) -> np.ndarray:\n",
    "#     \"\"\"Compute the SSDD distances tensor.\n",
    "\n",
    "#     Args:\n",
    "#         left_image: Left image of shape: HxWx3, and type np.double64.\n",
    "#         right_image: Right image of shape: HxWx3, and type np.double64.\n",
    "#         win_size: Window size odd integer.\n",
    "#         dsp_range: Half of the disparity range. The actual range is\n",
    "#         -dsp_range, -dsp_range + 1, ..., 0, 1, ..., dsp_range.\n",
    "\n",
    "#     Returns:\n",
    "#         A tensor of the sum of squared differences for every pixel in a\n",
    "#         window of size win_size X win_size, for the 2*dsp_range + 1\n",
    "#         possible disparity values. The tensor shape should be:\n",
    "#         HxWx(2*dsp_range+1).\n",
    "#     \"\"\"\n",
    "#     num_of_rows, num_of_cols = left_image.shape[0], left_image.shape[1]\n",
    "#     disparity_values = range(-dsp_range, dsp_range+1)\n",
    "#     ssdd_tensor = np.zeros((num_of_rows,\n",
    "#                             num_of_cols,\n",
    "#                             len(disparity_values)))\n",
    "#     \"\"\"INSERT YOUR CODE HERE\"\"\"\n",
    "\n",
    "#     as_strided = np.lib.stride_tricks.as_strided\n",
    "\n",
    " \n",
    "#     ssdd_tensor = np.stack([calc_disperity(left_image, right_image, win_size, d) for d in disparity_values], axis=-1)\n",
    "\n",
    "#     ssdd_tensor -= ssdd_tensor.min()\n",
    "#     ssdd_tensor /= ssdd_tensor.max()\n",
    "#     ssdd_tensor *= 255.0\n",
    "    \n",
    "#     return ssdd_tensor\n"
   ]
  },
  {
   "cell_type": "code",
   "execution_count": null,
   "metadata": {},
   "outputs": [],
   "source": [
    "dsp =2\n",
    "left_image_shifted,amount_padding = pad_image_one_side(l, dsp, 'l')\n",
    "right_image_shifted,_ = pad_image_one_side(r, dsp, 'r')"
   ]
  },
  {
   "cell_type": "code",
   "execution_count": null,
   "metadata": {},
   "outputs": [],
   "source": [
    "dsp_range = [-2,-1,0,1,2]"
   ]
  },
  {
   "cell_type": "code",
   "execution_count": null,
   "metadata": {},
   "outputs": [],
   "source": [
    "left_image_shifted[:,:,0]"
   ]
  },
  {
   "cell_type": "code",
   "execution_count": null,
   "metadata": {},
   "outputs": [],
   "source": [
    "right_image_shifted[:,:,0]"
   ]
  },
  {
   "cell_type": "code",
   "execution_count": null,
   "metadata": {},
   "outputs": [],
   "source": [
    "dsp_range[0]"
   ]
  },
  {
   "cell_type": "code",
   "execution_count": null,
   "metadata": {},
   "outputs": [],
   "source": [
    "calc_disperity(l, r, 3,dsp_range[3])"
   ]
  },
  {
   "cell_type": "code",
   "execution_count": null,
   "metadata": {},
   "outputs": [],
   "source": [
    "16+81+10"
   ]
  },
  {
   "cell_type": "code",
   "execution_count": null,
   "metadata": {},
   "outputs": [],
   "source": [
    "####################################"
   ]
  },
  {
   "cell_type": "code",
   "execution_count": null,
   "metadata": {},
   "outputs": [],
   "source": [
    "############ testing ###########"
   ]
  },
  {
   "cell_type": "code",
   "execution_count": null,
   "metadata": {},
   "outputs": [],
   "source": [
    "2,3,1"
   ]
  },
  {
   "cell_type": "code",
   "execution_count": null,
   "metadata": {
    "scrolled": true
   },
   "outputs": [],
   "source": [
    "l[:,:,0]"
   ]
  },
  {
   "cell_type": "code",
   "execution_count": null,
   "metadata": {},
   "outputs": [],
   "source": [
    "l[:,:,0][2,3]"
   ]
  },
  {
   "cell_type": "code",
   "execution_count": null,
   "metadata": {},
   "outputs": [],
   "source": [
    "r[:,:,0]"
   ]
  },
  {
   "cell_type": "code",
   "execution_count": null,
   "metadata": {},
   "outputs": [],
   "source": [
    "l[:,:,0][1:,2:]"
   ]
  },
  {
   "cell_type": "code",
   "execution_count": null,
   "metadata": {},
   "outputs": [],
   "source": [
    "np.pad(r[:,:,0][1:,3:],((0,0),(0,1)))"
   ]
  },
  {
   "cell_type": "code",
   "execution_count": null,
   "metadata": {
    "scrolled": true
   },
   "outputs": [],
   "source": [
    "np.sum((np.pad(r[:,:,0][1:,3:],((0,0),(0,1)))- l[:,:,0][1:,2:])**2)"
   ]
  },
  {
   "cell_type": "code",
   "execution_count": null,
   "metadata": {},
   "outputs": [],
   "source": [
    "###############(1,2,3)####################"
   ]
  },
  {
   "cell_type": "code",
   "execution_count": null,
   "metadata": {},
   "outputs": [],
   "source": [
    "l[:,:,0][1,2]"
   ]
  },
  {
   "cell_type": "code",
   "execution_count": null,
   "metadata": {},
   "outputs": [],
   "source": [
    "l[:,:,0][0:3,1:4]"
   ]
  },
  {
   "cell_type": "code",
   "execution_count": null,
   "metadata": {},
   "outputs": [],
   "source": [
    "np.pad(r[:,:,0][:3,3:],((0,0),(0,1)))"
   ]
  },
  {
   "cell_type": "code",
   "execution_count": null,
   "metadata": {},
   "outputs": [],
   "source": [
    "np.sum((l[:,:,0][0:3,1:4]-np.pad(r[:,:,0][:3,3:],((0,0),(0,1))))**2)"
   ]
  },
  {
   "cell_type": "code",
   "execution_count": null,
   "metadata": {},
   "outputs": [],
   "source": [
    "##################################"
   ]
  },
  {
   "cell_type": "code",
   "execution_count": null,
   "metadata": {},
   "outputs": [],
   "source": [
    "l,r = np.array([range(1,21)]).reshape((4,5,1)),np.array([[[i] for j in range(5)] for i in range(1,5)])"
   ]
  },
  {
   "cell_type": "code",
   "execution_count": null,
   "metadata": {},
   "outputs": [],
   "source": [
    "r.shape"
   ]
  },
  {
   "cell_type": "code",
   "execution_count": null,
   "metadata": {},
   "outputs": [],
   "source": [
    "ssdd_tensor = ssd_distance(l,r,3,2)"
   ]
  },
  {
   "cell_type": "code",
   "execution_count": null,
   "metadata": {},
   "outputs": [],
   "source": [
    "ssdd_tensor[1,2,3]"
   ]
  },
  {
   "cell_type": "code",
   "execution_count": null,
   "metadata": {},
   "outputs": [],
   "source": [
    "l[:,:,0][:3,1:4]"
   ]
  },
  {
   "cell_type": "code",
   "execution_count": null,
   "metadata": {},
   "outputs": [],
   "source": [
    "l[:,:,0]"
   ]
  },
  {
   "cell_type": "code",
   "execution_count": null,
   "metadata": {},
   "outputs": [],
   "source": [
    "r[:,:,0]"
   ]
  },
  {
   "cell_type": "code",
   "execution_count": null,
   "metadata": {},
   "outputs": [],
   "source": [
    "l[:,:,0][:3,1:4]"
   ]
  },
  {
   "cell_type": "code",
   "execution_count": null,
   "metadata": {},
   "outputs": [],
   "source": [
    "np.pad(r[:,:,0][:3,3:],((0,0),(0,1)))"
   ]
  },
  {
   "cell_type": "code",
   "execution_count": null,
   "metadata": {},
   "outputs": [],
   "source": [
    "np.sum((l[:,:,0][:3,1:4] - np.pad(r[:,:,0][:3,3:],((0,0),(0,1))))**2)"
   ]
  },
  {
   "cell_type": "code",
   "execution_count": null,
   "metadata": {},
   "outputs": [],
   "source": [
    "print(ssdd_tensor[2,3,0])\n",
    "print(ssdd_tensor[2,3,1])\n",
    "print(ssdd_tensor[1,2,2])\n",
    "print(ssdd_tensor[1,2,3])\n",
    "print(ssdd_tensor[1,2,1])"
   ]
  },
  {
   "cell_type": "code",
   "execution_count": null,
   "metadata": {},
   "outputs": [],
   "source": [
    "np.array(range(1,21)).reshape((4,5))"
   ]
  },
  {
   "cell_type": "code",
   "execution_count": null,
   "metadata": {},
   "outputs": [],
   "source": [
    "np.array([[i for j in range(5)] for i in range(1,5)])"
   ]
  },
  {
   "cell_type": "code",
   "execution_count": null,
   "metadata": {},
   "outputs": [],
   "source": [
    "ssdd_tensor = ssd_distance(left_image,right_image,win_size,dsp_range)"
   ]
  },
  {
   "cell_type": "code",
   "execution_count": null,
   "metadata": {},
   "outputs": [],
   "source": [
    "np.sum(ssdd_tensor)"
   ]
  },
  {
   "cell_type": "code",
   "execution_count": null,
   "metadata": {},
   "outputs": [],
   "source": [
    "depth = ssdd_tensor.argmin(axis=-1)"
   ]
  },
  {
   "cell_type": "code",
   "execution_count": null,
   "metadata": {},
   "outputs": [],
   "source": [
    "plt.imshow(depth)"
   ]
  },
  {
   "cell_type": "code",
   "execution_count": null,
   "metadata": {},
   "outputs": [],
   "source": [
    "##############################################"
   ]
  },
  {
   "cell_type": "code",
   "execution_count": 7,
   "metadata": {},
   "outputs": [],
   "source": [
    "from solution import Solution"
   ]
  },
  {
   "cell_type": "code",
   "execution_count": 8,
   "metadata": {},
   "outputs": [
    {
     "data": {
      "text/plain": [
       "Text(0.5, 1.0, 'Naive Depth')"
      ]
     },
     "execution_count": 8,
     "metadata": {},
     "output_type": "execute_result"
    },
    {
     "data": {
      "image/png": "[encoded data removed]",
      "text/plain": [
       "<Figure size 432x288 with 3 Axes>"
      ]
     },
     "metadata": {
      "needs_background": "light"
     },
     "output_type": "display_data"
    }
   ],
   "source": [
    "solution = Solution()\n",
    "# Compute Sum-Square-Diff distance\n",
    "ssdd = solution.ssd_distance(left_image.astype(np.float64),\n",
    "                             right_image.astype(np.float64),\n",
    "                             win_size=3,\n",
    "                             dsp_range=20)\n",
    "\n",
    "# Construct naive disparity image\n",
    "label_map = solution.naive_labeling(ssdd)\n",
    "\n",
    "# plot the left image and the estimated depth\n",
    "fig = plt.figure()\n",
    "plt.subplot(1, 2, 1)\n",
    "plt.imshow(left_image)\n",
    "plt.subplot(1, 2, 2)\n",
    "plt.imshow(label_map)\n",
    "plt.colorbar()\n",
    "plt.title('Naive Depth')"
   ]
  },
  {
   "cell_type": "code",
   "execution_count": 8,
   "metadata": {},
   "outputs": [
    {
     "data": {
      "text/plain": [
       "array([[20, 20, 20, ..., 18,  0, 20],\n",
       "       [20, 20, 20, ..., 18, 20, 20],\n",
       "       [20, 20, 29, ..., 18, 20, 20],\n",
       "       ...,\n",
       "       [20, 20, 20, ..., 14, 20, 20],\n",
       "       [20, 20, 20, ..., 14, 20, 20],\n",
       "       [20, 20, 20, ..., 14, 20, 20]])"
      ]
     },
     "execution_count": 8,
     "metadata": {},
     "output_type": "execute_result"
    }
   ],
   "source": [
    "label_map"
   ]
  },
  {
   "cell_type": "code",
   "execution_count": null,
   "metadata": {},
   "outputs": [],
   "source": [
    "ssdd.shape"
   ]
  },
  {
   "cell_type": "code",
   "execution_count": null,
   "metadata": {},
   "outputs": [],
   "source": [
    "ssdd[0,:,:].shape"
   ]
  },
  {
   "cell_type": "code",
   "execution_count": 10,
   "metadata": {},
   "outputs": [],
   "source": [
    "p1,p2 =  0.5, 3.0"
   ]
  },
  {
   "cell_type": "code",
   "execution_count": 63,
   "metadata": {},
   "outputs": [],
   "source": [
    "c_slice = np.array(range(100)).reshape(10,10)#ssdd[0,:,:].T"
   ]
  },
  {
   "cell_type": "code",
   "execution_count": 64,
   "metadata": {},
   "outputs": [
    {
     "data": {
      "text/plain": [
       "(10, 10)"
      ]
     },
     "execution_count": 64,
     "metadata": {},
     "output_type": "execute_result"
    }
   ],
   "source": [
    "c_slice.shape"
   ]
  },
  {
   "cell_type": "code",
   "execution_count": 66,
   "metadata": {},
   "outputs": [
    {
     "data": {
      "text/plain": [
       "array([[  0. ,   1. ,   2. ,   3. ,   4. ,   5. ,   6. ,   7. ,   8. ,\n",
       "          9. ],\n",
       "       [ 10. ,  11.5,  12.5,  13.5,  14.5,  15.5,  16.5,  17.5,  18.5,\n",
       "         19.5],\n",
       "       [ 20. ,  24. ,  25. ,  26. ,  27. ,  28. ,  29. ,  30. ,  31. ,\n",
       "         32. ],\n",
       "       [ 30. ,  34. ,  35. ,  36. ,  37. ,  38. ,  39. ,  40. ,  41. ,\n",
       "         42. ],\n",
       "       [ 40. ,  44. ,  45. ,  46. ,  47. ,  48. ,  49. ,  50. ,  51. ,\n",
       "         52. ],\n",
       "       [ 50. ,  54. ,  55. ,  56. ,  57. ,  58. ,  59. ,  60. ,  61. ,\n",
       "         62. ],\n",
       "       [ 60. ,  64. ,  65. ,  66. ,  67. ,  68. ,  69. ,  70. ,  71. ,\n",
       "         72. ],\n",
       "       [ 70. ,  74. ,  75. ,  76. ,  77. ,  78. ,  79. ,  80. ,  81. ,\n",
       "         82. ],\n",
       "       [ 80. ,  84. ,  85. ,  86. ,  87. ,  88. ,  89. ,  90. ,  91. ,\n",
       "         92. ],\n",
       "       [ 90. ,  94. ,  95. ,  96. ,  97. ,  98. ,  99. , 100. , 101. ,\n",
       "        102. ]])"
      ]
     },
     "execution_count": 66,
     "metadata": {},
     "output_type": "execute_result"
    }
   ],
   "source": [
    "solution.dp_grade_slice(c_slice,p1,p2)"
   ]
  },
  {
   "cell_type": "code",
   "execution_count": 67,
   "metadata": {},
   "outputs": [],
   "source": [
    "num_labels, num_of_cols = c_slice.shape[0], c_slice.shape[1]\n",
    "l_slice = np.zeros((num_labels, num_of_cols))\n",
    "l_slice[:, 0] = c_slice[:, 0]\n",
    "\n",
    "b_indexs = np.arange(1, l_slice.shape[0] + 1)\n",
    "\n",
    "l_slice = np.pad(l_slice, ((1, 1), (0, 0)), mode='constant', constant_values=np.inf)\n"
   ]
  },
  {
   "cell_type": "code",
   "execution_count": 68,
   "metadata": {},
   "outputs": [],
   "source": [
    "def fill_L(k):\n",
    "    a = l_slice[:, k - 1][b_indexs]\n",
    "    b = np.min((l_slice[:, k - 1][b_indexs + 1], l_slice[:, k - 1][b_indexs - 1]), axis=0) + p1\n",
    "    c_min_val = np.ones_like(b_indexs) * l_slice[:, k - 1].min()\n",
    "    c = c_min_val + p2\n",
    "    m = np.min((a, b, c), axis=0)\n",
    "    print(f'chosen {m}')\n",
    "    print(c_min_val)\n",
    "    print(c_slice[:, k])\n",
    "    l_slice[1:-1, k] = np.min((a, b, c), axis=0) + c_slice[:, k] - c_min_val\n"
   ]
  },
  {
   "cell_type": "code",
   "execution_count": 60,
   "metadata": {},
   "outputs": [
    {
     "data": {
      "text/plain": [
       "0.04126271"
      ]
     },
     "execution_count": 60,
     "metadata": {},
     "output_type": "execute_result"
    }
   ],
   "source": [
    "0.01684192+0.02442079"
   ]
  },
  {
   "cell_type": "code",
   "execution_count": 70,
   "metadata": {},
   "outputs": [
    {
     "name": "stdout",
     "output_type": "stream",
     "text": [
      "chosen [0.  0.5 3.  3.  3.  3.  3.  3.  3.  3. ]\n",
      "[0. 0. 0. 0. 0. 0. 0. 0. 0. 0.]\n",
      "[ 1 11 21 31 41 51 61 71 81 91]\n"
     ]
    }
   ],
   "source": [
    "fill_L(1)"
   ]
  },
  {
   "cell_type": "code",
   "execution_count": 71,
   "metadata": {},
   "outputs": [
    {
     "data": {
      "text/plain": [
       "array([[ inf,  inf,  inf,  inf,  inf,  inf,  inf,  inf,  inf,  inf],\n",
       "       [ 0. ,  1. ,  0. ,  0. ,  0. ,  0. ,  0. ,  0. ,  0. ,  0. ],\n",
       "       [10. , 11.5,  0. ,  0. ,  0. ,  0. ,  0. ,  0. ,  0. ,  0. ],\n",
       "       [20. , 24. ,  0. ,  0. ,  0. ,  0. ,  0. ,  0. ,  0. ,  0. ],\n",
       "       [30. , 34. ,  0. ,  0. ,  0. ,  0. ,  0. ,  0. ,  0. ,  0. ],\n",
       "       [40. , 44. ,  0. ,  0. ,  0. ,  0. ,  0. ,  0. ,  0. ,  0. ],\n",
       "       [50. , 54. ,  0. ,  0. ,  0. ,  0. ,  0. ,  0. ,  0. ,  0. ],\n",
       "       [60. , 64. ,  0. ,  0. ,  0. ,  0. ,  0. ,  0. ,  0. ,  0. ],\n",
       "       [70. , 74. ,  0. ,  0. ,  0. ,  0. ,  0. ,  0. ,  0. ,  0. ],\n",
       "       [80. , 84. ,  0. ,  0. ,  0. ,  0. ,  0. ,  0. ,  0. ,  0. ],\n",
       "       [90. , 94. ,  0. ,  0. ,  0. ,  0. ,  0. ,  0. ,  0. ,  0. ],\n",
       "       [ inf,  inf,  inf,  inf,  inf,  inf,  inf,  inf,  inf,  inf]])"
      ]
     },
     "execution_count": 71,
     "metadata": {},
     "output_type": "execute_result"
    }
   ],
   "source": [
    "l_slice"
   ]
  },
  {
   "cell_type": "code",
   "execution_count": null,
   "metadata": {},
   "outputs": [],
   "source": [
    "fi"
   ]
  },
  {
   "cell_type": "code",
   "execution_count": 42,
   "metadata": {},
   "outputs": [],
   "source": [
    "def dp_grade_slice(c_slice: np.ndarray, p1: float, p2: float) -> np.ndarray:\n",
    "    num_labels, num_of_cols = c_slice.shape[0], c_slice.shape[1]\n",
    "    l_slice = np.zeros((num_labels, num_of_cols))\n",
    "    \"\"\"INSERT YOUR CODE HERE\"\"\"\n",
    "    l_slice[:, 0] = c_slice[:, 0]\n",
    "    b_indexs = np.arange(1, l_slice.shape[0] + 1)\n",
    "\n",
    "    l_slice = np.pad(l_slice, ((1, 1), (0, 0)), mode='constant', constant_values=np.inf)\n",
    "\n",
    "    def fill_L(k):\n",
    "        a = l_slice[:, k - 1][b_indexs]\n",
    "        b = np.min((l_slice[:, k - 1][b_indexs + 1], l_slice[:, k - 1][b_indexs - 1]), axis=0) + p1\n",
    "        c_min_val = np.ones_like(b_indexs) * l_slice[:, k - 1].min()\n",
    "        c = c_min_val + p2\n",
    "        l_slice[1:-1, k] = np.min((a, b, c), axis=0) + c_slice[:, k] - c_min_val\n",
    "\n",
    "    for k in range(1, l_slice.shape[1]):\n",
    "        fill_L(k)\n",
    "\n",
    "    l_slice = l_slice[1:-1, :]\n",
    "\n",
    "    return l_slice"
   ]
  },
  {
   "cell_type": "code",
   "execution_count": 43,
   "metadata": {},
   "outputs": [
    {
     "data": {
      "text/plain": [
       "(288, 384, 41)"
      ]
     },
     "execution_count": 43,
     "metadata": {},
     "output_type": "execute_result"
    }
   ],
   "source": [
    "ssdd.shape"
   ]
  },
  {
   "cell_type": "code",
   "execution_count": 44,
   "metadata": {},
   "outputs": [],
   "source": [
    "Ls = []\n",
    "for i in range(ssdd.shape[0]):\n",
    "    c_slice = ssdd[i,:,:].T\n",
    "    l = dp_grade_slice(c_slice,p1,p2)\n",
    "    Ls.append(l.T)"
   ]
  },
  {
   "cell_type": "code",
   "execution_count": 45,
   "metadata": {},
   "outputs": [
    {
     "data": {
      "text/plain": [
       "<matplotlib.image.AxesImage at 0x7f316d5264f0>"
      ]
     },
     "execution_count": 45,
     "metadata": {},
     "output_type": "execute_result"
    },
    {
     "data": {
      "image/png": "[encoded data removed]",
      "text/plain": [
       "<Figure size 432x288 with 1 Axes>"
      ]
     },
     "metadata": {
      "needs_background": "light"
     },
     "output_type": "display_data"
    }
   ],
   "source": [
    "plt.imshow(np.array(Ls).argmin(axis=-1))"
   ]
  },
  {
   "cell_type": "code",
   "execution_count": 13,
   "metadata": {},
   "outputs": [
    {
     "ename": "NameError",
     "evalue": "name 'dp_labeling' is not defined",
     "output_type": "error",
     "traceback": [
      "\u001b[0;31m---------------------------------------------------------------------------\u001b[0m",
      "\u001b[0;31mNameError\u001b[0m                                 Traceback (most recent call last)",
      "\u001b[0;32m/tmp/ipykernel_20172/1589432420.py\u001b[0m in \u001b[0;36m<module>\u001b[0;34m\u001b[0m\n\u001b[1;32m      1\u001b[0m \u001b[0mp1\u001b[0m\u001b[0;34m,\u001b[0m\u001b[0mp2\u001b[0m \u001b[0;34m=\u001b[0m  \u001b[0;36m0.5\u001b[0m\u001b[0;34m,\u001b[0m \u001b[0;36m3.0\u001b[0m\u001b[0;34m\u001b[0m\u001b[0;34m\u001b[0m\u001b[0m\n\u001b[0;32m----> 2\u001b[0;31m \u001b[0mdp\u001b[0m \u001b[0;34m=\u001b[0m \u001b[0mdp_labeling\u001b[0m\u001b[0;34m(\u001b[0m\u001b[0mssdd\u001b[0m\u001b[0;34m,\u001b[0m\u001b[0mp1\u001b[0m\u001b[0;34m,\u001b[0m\u001b[0mp2\u001b[0m\u001b[0;34m)\u001b[0m\u001b[0;34m\u001b[0m\u001b[0;34m\u001b[0m\u001b[0m\n\u001b[0m",
      "\u001b[0;31mNameError\u001b[0m: name 'dp_labeling' is not defined"
     ]
    }
   ],
   "source": [
    "p1,p2 =  0.5, 3.0\n",
    "dp = dp_labeling(ssdd,p1,p2)"
   ]
  },
  {
   "cell_type": "code",
   "execution_count": 46,
   "metadata": {},
   "outputs": [
    {
     "data": {
      "text/plain": [
       "(2, 0)"
      ]
     },
     "execution_count": 46,
     "metadata": {},
     "output_type": "execute_result"
    }
   ],
   "source": [
    "np.unravel_index(6,(3,3))"
   ]
  },
  {
   "cell_type": "code",
   "execution_count": 12,
   "metadata": {},
   "outputs": [
    {
     "data": {
      "text/plain": [
       "<matplotlib.image.AxesImage at 0x7f3178931b80>"
      ]
     },
     "execution_count": 12,
     "metadata": {},
     "output_type": "execute_result"
    },
    {
     "data": {
      "image/png": "[encoded data removed]",
      "text/plain": [
       "<Figure size 432x288 with 1 Axes>"
      ]
     },
     "metadata": {
      "needs_background": "light"
     },
     "output_type": "display_data"
    }
   ],
   "source": [
    "plt.imshow(dp)"
   ]
  },
  {
   "cell_type": "code",
   "execution_count": 77,
   "metadata": {},
   "outputs": [
    {
     "data": {
      "text/plain": [
       "(41, 384)"
      ]
     },
     "execution_count": 77,
     "metadata": {},
     "output_type": "execute_result"
    }
   ],
   "source": [
    "Ls[0].shape"
   ]
  },
  {
   "cell_type": "code",
   "execution_count": 41,
   "metadata": {},
   "outputs": [
    {
     "data": {
      "text/plain": [
       "array([0.04126271, 0.04126271, 0.04126271, 0.04126271, 0.04126271,\n",
       "       0.04126271, 0.04126271, 0.04126271, 0.04126271, 0.04126271,\n",
       "       0.04126271, 0.04126271, 0.04126271, 0.04126271, 0.04126271,\n",
       "       0.04126271, 0.04126271, 0.04126271, 0.0350312 , 0.01616825,\n",
       "       0.00016842, 0.01448405, 0.01987347, 0.01599983, 0.01701034,\n",
       "       0.01701034, 0.01701034, 0.01701034, 0.01684192, 0.0175156 ,\n",
       "       0.01936821, 0.0139788 , 0.01515773, 0.01734718, 0.01869453,\n",
       "       0.01566299, 0.02138924, 0.01448405, 0.02037873, 0.01566299,\n",
       "       0.02088398])"
      ]
     },
     "execution_count": 41,
     "metadata": {},
     "output_type": "execute_result"
    }
   ],
   "source": [
    "Ls[0][:,1]"
   ]
  },
  {
   "cell_type": "code",
   "execution_count": 40,
   "metadata": {},
   "outputs": [
    {
     "data": {
      "text/plain": [
       "array([0.01684192, 0.01684192, 0.01684192, 0.01684192, 0.01684192,\n",
       "       0.01684192, 0.01684192, 0.01684192, 0.01684192, 0.01684192,\n",
       "       0.01684192, 0.01684192, 0.01684192, 0.01684192, 0.01684192,\n",
       "       0.01684192, 0.01684192, 0.01684192, 0.01684192, 0.00724203,\n",
       "       0.        , 0.00842096, 0.0166735 , 0.01246302, 0.01347354,\n",
       "       0.01347354, 0.01347354, 0.01347354, 0.01347354, 0.0139788 ,\n",
       "       0.01448405, 0.01178935, 0.01111567, 0.01431563, 0.01364196,\n",
       "       0.01296828, 0.01465247, 0.01330512, 0.01246302, 0.01448405,\n",
       "       0.01279986])"
      ]
     },
     "execution_count": 40,
     "metadata": {},
     "output_type": "execute_result"
    }
   ],
   "source": [
    "Ls[0][:,0]"
   ]
  },
  {
   "cell_type": "code",
   "execution_count": null,
   "metadata": {},
   "outputs": [],
   "source": []
  },
  {
   "cell_type": "code",
   "execution_count": null,
   "metadata": {},
   "outputs": [],
   "source": [
    "L = np.zeros_like(c_slice)"
   ]
  },
  {
   "cell_type": "code",
   "execution_count": null,
   "metadata": {},
   "outputs": [],
   "source": [
    "L[:,0] = c_slice[:,0]"
   ]
  },
  {
   "cell_type": "code",
   "execution_count": null,
   "metadata": {},
   "outputs": [],
   "source": [
    "b_indexs=  np.arange(1,L.shape[0]+1) \n"
   ]
  },
  {
   "cell_type": "code",
   "execution_count": null,
   "metadata": {},
   "outputs": [],
   "source": [
    "L = np.pad(L,((1,1),(0,0)), mode='constant', constant_values=np.inf)"
   ]
  },
  {
   "cell_type": "code",
   "execution_count": null,
   "metadata": {},
   "outputs": [],
   "source": [
    "def fill_L(k):\n",
    "    a = L[:,k-1][b_indexs]\n",
    "    b = np.min((L[:,k-1][b_indexs+1],L[:,k-1][b_indexs-1]),axis=0) + p1\n",
    "    c_min_val = np.ones_like(b_indexs)*L[:,k-1].min() \n",
    "    c = c_min_val + p2\n",
    "    L[1:-1,k] = np.min((a,b,c),axis=0) + c_slice[:,k] - c_min_val"
   ]
  },
  {
   "cell_type": "code",
   "execution_count": null,
   "metadata": {},
   "outputs": [],
   "source": [
    "L.shape[1]"
   ]
  },
  {
   "cell_type": "code",
   "execution_count": null,
   "metadata": {},
   "outputs": [],
   "source": [
    "for k in range(1,L.shape[1]):\n",
    "    fill_L(k)"
   ]
  },
  {
   "cell_type": "code",
   "execution_count": null,
   "metadata": {},
   "outputs": [],
   "source": [
    "print(L)"
   ]
  },
  {
   "cell_type": "code",
   "execution_count": null,
   "metadata": {},
   "outputs": [],
   "source": [
    "k=1"
   ]
  },
  {
   "cell_type": "code",
   "execution_count": null,
   "metadata": {},
   "outputs": [],
   "source": [
    "a = L[:,k-1][b_indexs]\n",
    "b = np.min((L[:,k-1][b_indexs+1],L[:,k-1][b_indexs-1]),axis=0) + p1\n",
    "c = np.ones_like(b_indexs)*L[:,k-1].min() + p2 \n"
   ]
  },
  {
   "cell_type": "code",
   "execution_count": null,
   "metadata": {},
   "outputs": [],
   "source": [
    "    L[1:-1,k] = np.min((a,b,c),axis=0)"
   ]
  },
  {
   "cell_type": "code",
   "execution_count": null,
   "metadata": {},
   "outputs": [],
   "source": [
    "np.min((a,b,c),axis=0)"
   ]
  },
  {
   "cell_type": "code",
   "execution_count": null,
   "metadata": {},
   "outputs": [],
   "source": [
    "L[:,0][42]"
   ]
  },
  {
   "cell_type": "code",
   "execution_count": null,
   "metadata": {},
   "outputs": [],
   "source": [
    "b_indexs"
   ]
  },
  {
   "cell_type": "code",
   "execution_count": 47,
   "metadata": {},
   "outputs": [],
   "source": [
    "###########################"
   ]
  },
  {
   "cell_type": "code",
   "execution_count": 50,
   "metadata": {},
   "outputs": [
    {
     "data": {
      "text/plain": [
       "(288, 384, 41)"
      ]
     },
     "execution_count": 50,
     "metadata": {},
     "output_type": "execute_result"
    }
   ],
   "source": [
    "ssdd.shape"
   ]
  },
  {
   "cell_type": "code",
   "execution_count": 52,
   "metadata": {},
   "outputs": [],
   "source": [
    "def direction_slice(ssdd,direction):\n",
    "    \n",
    "    d1 =  [ssdd[i] for i in range(ssdd.shape[0])]\n",
    "    d2 = diagonolize(ssdd)\n",
    "    d3 = [ssdd[:,i] for i in range(ssdd.shape[1])]\n",
    "    d4 = diagonolize(np.fliplr(ssdd))\n",
    "    d5 = [np.flip(d) for d in d1]\n",
    "    d6 = [np.flip(d) for d in d2]\n",
    "    d7 = [np.flip(d) for d in d3]\n"
   ]
  },
  {
   "cell_type": "code",
   "execution_count": 648,
   "metadata": {},
   "outputs": [
    {
     "data": {
      "text/plain": [
       "[array([3, 2, 1, 0]), array([7, 6, 5, 4]), array([11, 10,  9,  8])]"
      ]
     },
     "execution_count": 648,
     "metadata": {},
     "output_type": "execute_result"
    }
   ],
   "source": [
    " [np.flip(s[:,:,0][i]) for i in range(s[:,:,0].shape[0])]"
   ]
  },
  {
   "cell_type": "code",
   "execution_count": 606,
   "metadata": {},
   "outputs": [],
   "source": [
    "def diagonolize(ssdd):\n",
    "    longer_axis = max(ssdd.shape[1],ssdd.shape[0])\n",
    "    diags= [ssdd.diagonal(i) for i in range(-longer_axis,longer_axis)]\n",
    "    return diags"
   ]
  },
  {
   "cell_type": "code",
   "execution_count": 607,
   "metadata": {},
   "outputs": [],
   "source": [
    "def undiagonlize(orig_ssdd_shape,diags):\n",
    "    xv, yv = np.meshgrid(range(orig_ssdd_shape[1]), range(orig_ssdd_shape[0]), sparse=False, indexing='ij')\n",
    "    inds = np.stack([xv,yv]).T\n",
    "    longer_axis = max(orig_ssdd_shape)\n",
    "    diags_inds = np.concatenate([inds.diagonal(i) for i in range(-longer_axis,longer_axis)],axis=1)\n",
    "    diags_c = np.concatenate(diags,axis=1)\n",
    "    z = np.zeros(orig_ssdd_shape)\n",
    "    z[diags_inds[1],diags_inds[0]] = diags_c.T\n",
    "    return z"
   ]
  },
  {
   "cell_type": "code",
   "execution_count": 636,
   "metadata": {},
   "outputs": [
    {
     "data": {
      "text/plain": [
       "array([[ 0,  1,  2,  3],\n",
       "       [ 4,  5,  6,  7],\n",
       "       [ 8,  9, 10, 11]])"
      ]
     },
     "execution_count": 636,
     "metadata": {},
     "output_type": "execute_result"
    }
   ],
   "source": [
    "s[:,:,0]"
   ]
  },
  {
   "cell_type": "code",
   "execution_count": 642,
   "metadata": {},
   "outputs": [
    {
     "data": {
      "text/plain": [
       "[array([], dtype=int64),\n",
       " array([], dtype=int64),\n",
       " array([8]),\n",
       " array([4, 9]),\n",
       " array([ 0,  5, 10]),\n",
       " array([ 1,  6, 11]),\n",
       " array([2, 7]),\n",
       " array([3])]"
      ]
     },
     "execution_count": 642,
     "metadata": {},
     "output_type": "execute_result"
    }
   ],
   "source": [
    "diagonolize(s[:,:,0])"
   ]
  },
  {
   "cell_type": "code",
   "execution_count": 639,
   "metadata": {},
   "outputs": [
    {
     "data": {
      "text/plain": [
       "(288, 384, 41)"
      ]
     },
     "execution_count": 639,
     "metadata": {},
     "output_type": "execute_result"
    }
   ],
   "source": [
    "np.fliplr(ssdd).shape"
   ]
  },
  {
   "cell_type": "code",
   "execution_count": 609,
   "metadata": {},
   "outputs": [
    {
     "data": {
      "text/plain": [
       "[array([], dtype=int64),\n",
       " array([], dtype=int64),\n",
       " array([11]),\n",
       " array([ 7, 10]),\n",
       " array([3, 6, 9]),\n",
       " array([2, 5, 8]),\n",
       " array([1, 4]),\n",
       " array([0])]"
      ]
     },
     "execution_count": 609,
     "metadata": {},
     "output_type": "execute_result"
    }
   ],
   "source": [
    "diagonolize(np.fliplr(s[:,:,0]))"
   ]
  },
  {
   "cell_type": "code",
   "execution_count": 603,
   "metadata": {},
   "outputs": [
    {
     "data": {
      "text/plain": [
       "array([[ 0,  1,  2,  3],\n",
       "       [ 4,  5,  6,  7],\n",
       "       [ 8,  9, 10, 11]])"
      ]
     },
     "execution_count": 603,
     "metadata": {},
     "output_type": "execute_result"
    }
   ],
   "source": [
    "s[:,:,0]"
   ]
  },
  {
   "cell_type": "code",
   "execution_count": 573,
   "metadata": {},
   "outputs": [],
   "source": [
    "graded_diags = [dp_grade_slice(diag,p1,p2) for diag in diags if diag.shape[1]>0]"
   ]
  },
  {
   "cell_type": "code",
   "execution_count": 574,
   "metadata": {},
   "outputs": [],
   "source": [
    "res = undiagonlize(ssdd.shape,graded_diags)"
   ]
  },
  {
   "cell_type": "code",
   "execution_count": 575,
   "metadata": {},
   "outputs": [
    {
     "data": {
      "text/plain": [
       "(288, 384, 41)"
      ]
     },
     "execution_count": 575,
     "metadata": {},
     "output_type": "execute_result"
    }
   ],
   "source": [
    "res.shape"
   ]
  },
  {
   "cell_type": "code",
   "execution_count": 577,
   "metadata": {},
   "outputs": [
    {
     "data": {
      "text/plain": [
       "<matplotlib.image.AxesImage at 0x7f316cf97550>"
      ]
     },
     "execution_count": 577,
     "metadata": {},
     "output_type": "execute_result"
    },
    {
     "data": {
      "image/png": "[encoded data removed]",
      "text/plain": [
       "<Figure size 432x288 with 1 Axes>"
      ]
     },
     "metadata": {
      "needs_background": "light"
     },
     "output_type": "display_data"
    }
   ],
   "source": [
    "plt.imshow(res.argmin(axis=-1))"
   ]
  },
  {
   "cell_type": "code",
   "execution_count": null,
   "metadata": {},
   "outputs": [],
   "source": []
  }
 ],
 "metadata": {
  "kernelspec": {
   "display_name": "cv_env",
   "language": "python",
   "name": "cv_env"
  },
  "language_info": {
   "codemirror_mode": {
    "name": "ipython",
    "version": 3
   },
   "file_extension": ".py",
   "mimetype": "text/x-python",
   "name": "python",
   "nbconvert_exporter": "python",
   "pygments_lexer": "ipython3",
   "version": "3.9.6"
  }
 },
 "nbformat": 4,
 "nbformat_minor": 4
}
