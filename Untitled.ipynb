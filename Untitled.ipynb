{
 "cells": [
  {
   "cell_type": "code",
   "execution_count": 1,
   "metadata": {},
   "outputs": [],
   "source": [
    "import numpy as np\n",
    "from scipy.signal import convolve2d\n"
   ]
  },
  {
   "cell_type": "code",
   "execution_count": 2,
   "metadata": {},
   "outputs": [],
   "source": [
    "from main import load_data\n",
    "import matplotlib.pyplot as plt"
   ]
  },
  {
   "cell_type": "code",
   "execution_count": 3,
   "metadata": {},
   "outputs": [],
   "source": [
    "left_image, right_image = load_data(is_your_data=False)"
   ]
  },
  {
   "cell_type": "code",
   "execution_count": 4,
   "metadata": {},
   "outputs": [],
   "source": [
    "as_strided = np.lib.stride_tricks.as_strided"
   ]
  },
  {
   "cell_type": "code",
   "execution_count": 5,
   "metadata": {},
   "outputs": [],
   "source": [
    "win_size = 3\n",
    "dsp_range = 20"
   ]
  },
  {
   "cell_type": "code",
   "execution_count": 6,
   "metadata": {},
   "outputs": [],
   "source": [
    "def pad_image_one_side(img, amount, side):\n",
    "    if side == 'l':\n",
    "        amount_padding = (amount, 0)\n",
    "    else:\n",
    "        amount_padding = (0, amount)\n",
    "    img = np.stack(\n",
    "        [np.pad(img[:, :, c], ((0, 0), amount_padding), mode='constant', constant_values=0) for c in range(img.shape[-1])],\n",
    "        axis=2)\n",
    "    return img, amount_padding\n",
    "\n",
    "def pad_image(img, pad,amount_padding):\n",
    "    x_pad = np.array((pad,pad))-np.array(amount_padding).clip(0,None)\n",
    "    x_pad_cliped = np.clip(x_pad,a_min=0,a_max=None)\n",
    "    img = np.pad(img, ((pad,pad),x_pad_cliped), mode='constant', constant_values=0)\n",
    "    return img, x_pad\n",
    "\n",
    "def disperity_shift_diff(left_image, right_image, dsp):\n",
    "    if dsp > 0:\n",
    "        left_image_shifted,amount_padding = pad_image_one_side(left_image, dsp, 'l')\n",
    "        right_image_shifted,_ = pad_image_one_side(right_image, dsp, 'r')\n",
    "    elif dsp < 0:\n",
    "        left_image_shifted,amount_padding = pad_image_one_side(left_image, -1 * dsp, 'r')\n",
    "        right_image_shifted,_ = pad_image_one_side(right_image, -1 * dsp, 'l')\n",
    "    else:\n",
    "        left_image_shifted, right_image_shifted = left_image, right_image\n",
    "        amount_padding = (0,0)\n",
    "    diff = (left_image_shifted - right_image_shifted) ** 2\n",
    "    diff = diff.sum(axis=-1)\n",
    "    return diff,amount_padding\n",
    "\n",
    "def disperity_shift_diff2(left_image, right_image, dsp):\n",
    "    if dsp > 0:\n",
    "        left_image_shifted,amount_padding = pad_image_one_side(left_image, dsp, 'l')\n",
    "        right_image_shifted,_ = pad_image_one_side(right_image, dsp, 'r')\n",
    "    elif dsp < 0:\n",
    "        left_image_shifted,amount_padding = pad_image_one_side(left_image, -1 * dsp, 'r')\n",
    "        right_image_shifted,_ = pad_image_one_side(right_image, -1 * dsp, 'l')\n",
    "    else:\n",
    "        left_image_shifted, right_image_shifted = left_image, right_image\n",
    "        amount_padding = (0,0)\n",
    "    diff = (left_image_shifted - right_image_shifted) ** 2\n",
    "    diff = diff.sum(axis=-1)\n",
    "    return (left_image_shifted,right_image_shifted)\n",
    "\n",
    "def strided_view(A, kernel_size, stride):\n",
    "    output_shape = ((A.shape[0] - kernel_size) // stride + 1,\n",
    "                    (A.shape[1] - kernel_size) // stride + 1)\n",
    "\n",
    "    shape_w = (output_shape[0], output_shape[1], kernel_size, kernel_size)\n",
    "    strides_w = (stride * A.strides[0], stride * A.strides[1], A.strides[0], A.strides[1])\n",
    "\n",
    "    A_w = as_strided(A, shape_w, strides_w)\n",
    "    return A_w\n",
    "\n",
    "def calc_disperity(left_image, right_image, win_size, dsp):\n",
    "    padding_size = int(np.floor(win_size / 2))\n",
    "    diff,amount_padding = disperity_shift_diff(left_image, right_image, dsp)\n",
    "    padded_diff,padding = pad_image(diff,padding_size, amount_padding)\n",
    "    l,r = np.clip(padding,None,0)* -1\n",
    "    sum_pool = strided_view(padded_diff, win_size, 1).sum(axis=(2, 3))\n",
    "    sum_pool = sum_pool[:,l:sum_pool.shape[1]-r]\n",
    "    return sum_pool\n",
    "\n",
    "def ssd_distance(left_image: np.ndarray,\n",
    "                 right_image: np.ndarray,\n",
    "                 win_size: int,\n",
    "                 dsp_range: int) -> np.ndarray:\n",
    "    \"\"\"Compute the SSDD distances tensor.\n",
    "\n",
    "    Args:\n",
    "        left_image: Left image of shape: HxWx3, and type np.double64.\n",
    "        right_image: Right image of shape: HxWx3, and type np.double64.\n",
    "        win_size: Window size odd integer.\n",
    "        dsp_range: Half of the disparity range. The actual range is\n",
    "        -dsp_range, -dsp_range + 1, ..., 0, 1, ..., dsp_range.\n",
    "\n",
    "    Returns:\n",
    "        A tensor of the sum of squared differences for every pixel in a\n",
    "        window of size win_size X win_size, for the 2*dsp_range + 1\n",
    "        possible disparity values. The tensor shape should be:\n",
    "        HxWx(2*dsp_range+1).\n",
    "    \"\"\"\n",
    "    num_of_rows, num_of_cols = left_image.shape[0], left_image.shape[1]\n",
    "    disparity_values = range(-dsp_range, dsp_range+1)\n",
    "    ssdd_tensor = np.zeros((num_of_rows,\n",
    "                            num_of_cols,\n",
    "                            len(disparity_values)))\n",
    "    \"\"\"INSERT YOUR CODE HERE\"\"\"\n",
    "\n",
    "    as_strided = np.lib.stride_tricks.as_strided\n",
    "\n",
    " \n",
    "    ssdd_tensor = np.stack([calc_disperity(left_image, right_image, win_size, d) for d in disparity_values], axis=-1)\n",
    "\n",
    "#     ssdd_tensor -= ssdd_tensor.min()\n",
    "#     ssdd_tensor /= ssdd_tensor.max()\n",
    "#     ssdd_tensor *= 255.0\n",
    "    \n",
    "    return ssdd_tensor\n"
   ]
  },
  {
   "cell_type": "code",
   "execution_count": 81,
   "metadata": {},
   "outputs": [],
   "source": [
    "s = Solution()"
   ]
  },
  {
   "cell_type": "code",
   "execution_count": null,
   "metadata": {},
   "outputs": [],
   "source": [
    "dsp =2\n",
    "left_image_shifted,amount_padding = pad_image_one_side(l, dsp, 'l')\n",
    "right_image_shifted,_ = pad_image_one_side(r, dsp, 'r')"
   ]
  },
  {
   "cell_type": "code",
   "execution_count": null,
   "metadata": {},
   "outputs": [],
   "source": [
    "dsp_range = [-2,-1,0,1,2]"
   ]
  },
  {
   "cell_type": "code",
   "execution_count": null,
   "metadata": {},
   "outputs": [],
   "source": [
    "left_image_shifted[:,:,0]"
   ]
  },
  {
   "cell_type": "code",
   "execution_count": null,
   "metadata": {},
   "outputs": [],
   "source": [
    "right_image_shifted[:,:,0]"
   ]
  },
  {
   "cell_type": "code",
   "execution_count": null,
   "metadata": {},
   "outputs": [],
   "source": [
    "dsp_range[0]"
   ]
  },
  {
   "cell_type": "code",
   "execution_count": null,
   "metadata": {},
   "outputs": [],
   "source": [
    "calc_disperity(l, r, 3,dsp_range[3])"
   ]
  },
  {
   "cell_type": "code",
   "execution_count": null,
   "metadata": {},
   "outputs": [],
   "source": [
    "16+81+10"
   ]
  },
  {
   "cell_type": "code",
   "execution_count": null,
   "metadata": {},
   "outputs": [],
   "source": [
    "####################################"
   ]
  },
  {
   "cell_type": "code",
   "execution_count": null,
   "metadata": {},
   "outputs": [],
   "source": [
    "############ testing ###########"
   ]
  },
  {
   "cell_type": "code",
   "execution_count": 110,
   "metadata": {},
   "outputs": [
    {
     "data": {
      "text/plain": [
       "(2, 3, 1)"
      ]
     },
     "execution_count": 110,
     "metadata": {},
     "output_type": "execute_result"
    }
   ],
   "source": [
    "2,3,1"
   ]
  },
  {
   "cell_type": "code",
   "execution_count": 111,
   "metadata": {
    "scrolled": true
   },
   "outputs": [
    {
     "data": {
      "text/plain": [
       "array([[ 1,  2,  3,  4,  5],\n",
       "       [ 6,  7,  8,  9, 10],\n",
       "       [11, 12, 13, 14, 15],\n",
       "       [16, 17, 18, 19, 20]])"
      ]
     },
     "execution_count": 111,
     "metadata": {},
     "output_type": "execute_result"
    }
   ],
   "source": [
    "l[:,:,0]"
   ]
  },
  {
   "cell_type": "code",
   "execution_count": 112,
   "metadata": {},
   "outputs": [
    {
     "data": {
      "text/plain": [
       "14"
      ]
     },
     "execution_count": 112,
     "metadata": {},
     "output_type": "execute_result"
    }
   ],
   "source": [
    "l[:,:,0][2,3]"
   ]
  },
  {
   "cell_type": "code",
   "execution_count": 113,
   "metadata": {},
   "outputs": [
    {
     "data": {
      "text/plain": [
       "array([[1, 1, 1, 1, 1],\n",
       "       [2, 2, 2, 2, 2],\n",
       "       [3, 3, 3, 3, 3],\n",
       "       [4, 4, 4, 4, 4]])"
      ]
     },
     "execution_count": 113,
     "metadata": {},
     "output_type": "execute_result"
    }
   ],
   "source": [
    "r[:,:,0]"
   ]
  },
  {
   "cell_type": "code",
   "execution_count": 114,
   "metadata": {},
   "outputs": [
    {
     "data": {
      "text/plain": [
       "array([[ 8,  9, 10],\n",
       "       [13, 14, 15],\n",
       "       [18, 19, 20]])"
      ]
     },
     "execution_count": 114,
     "metadata": {},
     "output_type": "execute_result"
    }
   ],
   "source": [
    "l[:,:,0][1:,2:]"
   ]
  },
  {
   "cell_type": "code",
   "execution_count": 115,
   "metadata": {},
   "outputs": [
    {
     "data": {
      "text/plain": [
       "array([[2, 2, 0],\n",
       "       [3, 3, 0],\n",
       "       [4, 4, 0]])"
      ]
     },
     "execution_count": 115,
     "metadata": {},
     "output_type": "execute_result"
    }
   ],
   "source": [
    "np.pad(r[:,:,0][1:,3:],((0,0),(0,1)))"
   ]
  },
  {
   "cell_type": "code",
   "execution_count": 116,
   "metadata": {
    "scrolled": true
   },
   "outputs": [
    {
     "data": {
      "text/plain": [
       "1452"
      ]
     },
     "execution_count": 116,
     "metadata": {},
     "output_type": "execute_result"
    }
   ],
   "source": [
    "np.sum((np.pad(r[:,:,0][1:,3:],((0,0),(0,1)))- l[:,:,0][1:,2:])**2)"
   ]
  },
  {
   "cell_type": "code",
   "execution_count": null,
   "metadata": {},
   "outputs": [],
   "source": [
    "###############(1,2,3)####################"
   ]
  },
  {
   "cell_type": "code",
   "execution_count": 106,
   "metadata": {},
   "outputs": [
    {
     "data": {
      "text/plain": [
       "8"
      ]
     },
     "execution_count": 106,
     "metadata": {},
     "output_type": "execute_result"
    }
   ],
   "source": [
    "l[:,:,0][1,2]"
   ]
  },
  {
   "cell_type": "code",
   "execution_count": 107,
   "metadata": {},
   "outputs": [
    {
     "data": {
      "text/plain": [
       "array([[ 2,  3,  4],\n",
       "       [ 7,  8,  9],\n",
       "       [12, 13, 14]])"
      ]
     },
     "execution_count": 107,
     "metadata": {},
     "output_type": "execute_result"
    }
   ],
   "source": [
    "l[:,:,0][0:3,1:4]"
   ]
  },
  {
   "cell_type": "code",
   "execution_count": 108,
   "metadata": {},
   "outputs": [
    {
     "data": {
      "text/plain": [
       "array([[1, 1, 0],\n",
       "       [2, 2, 0],\n",
       "       [3, 3, 0]])"
      ]
     },
     "execution_count": 108,
     "metadata": {},
     "output_type": "execute_result"
    }
   ],
   "source": [
    "np.pad(r[:,:,0][:3,3:],((0,0),(0,1)))"
   ]
  },
  {
   "cell_type": "code",
   "execution_count": 109,
   "metadata": {},
   "outputs": [
    {
     "data": {
      "text/plain": [
       "540"
      ]
     },
     "execution_count": 109,
     "metadata": {},
     "output_type": "execute_result"
    }
   ],
   "source": [
    "np.sum((l[:,:,0][0:3,1:4]-np.pad(r[:,:,0][:3,3:],((0,0),(0,1))))**2)"
   ]
  },
  {
   "cell_type": "code",
   "execution_count": null,
   "metadata": {},
   "outputs": [],
   "source": [
    "##################################"
   ]
  },
  {
   "cell_type": "code",
   "execution_count": 82,
   "metadata": {},
   "outputs": [],
   "source": [
    "l,r = np.array([range(1,21)]).reshape((4,5,1)),np.array([[[i] for j in range(5)] for i in range(1,5)])"
   ]
  },
  {
   "cell_type": "code",
   "execution_count": 83,
   "metadata": {},
   "outputs": [
    {
     "data": {
      "text/plain": [
       "(4, 5, 1)"
      ]
     },
     "execution_count": 83,
     "metadata": {},
     "output_type": "execute_result"
    }
   ],
   "source": [
    "r.shape"
   ]
  },
  {
   "cell_type": "code",
   "execution_count": 88,
   "metadata": {},
   "outputs": [],
   "source": [
    "ssdd_tensor = ssd_distance(l,r,3,2)"
   ]
  },
  {
   "cell_type": "code",
   "execution_count": null,
   "metadata": {},
   "outputs": [],
   "source": [
    "ssdd_tensor[1,2,3]"
   ]
  },
  {
   "cell_type": "code",
   "execution_count": 117,
   "metadata": {},
   "outputs": [
    {
     "data": {
      "text/plain": [
       "array([[ 2,  3,  4],\n",
       "       [ 7,  8,  9],\n",
       "       [12, 13, 14]])"
      ]
     },
     "execution_count": 117,
     "metadata": {},
     "output_type": "execute_result"
    }
   ],
   "source": [
    "l[:,:,0][:3,1:4]"
   ]
  },
  {
   "cell_type": "code",
   "execution_count": 118,
   "metadata": {},
   "outputs": [
    {
     "data": {
      "text/plain": [
       "array([[ 1,  2,  3,  4,  5],\n",
       "       [ 6,  7,  8,  9, 10],\n",
       "       [11, 12, 13, 14, 15],\n",
       "       [16, 17, 18, 19, 20]])"
      ]
     },
     "execution_count": 118,
     "metadata": {},
     "output_type": "execute_result"
    }
   ],
   "source": [
    "l[:,:,0]"
   ]
  },
  {
   "cell_type": "code",
   "execution_count": 119,
   "metadata": {},
   "outputs": [
    {
     "data": {
      "text/plain": [
       "array([[1, 1, 1, 1, 1],\n",
       "       [2, 2, 2, 2, 2],\n",
       "       [3, 3, 3, 3, 3],\n",
       "       [4, 4, 4, 4, 4]])"
      ]
     },
     "execution_count": 119,
     "metadata": {},
     "output_type": "execute_result"
    }
   ],
   "source": [
    "r[:,:,0]"
   ]
  },
  {
   "cell_type": "code",
   "execution_count": 120,
   "metadata": {},
   "outputs": [
    {
     "data": {
      "text/plain": [
       "array([[ 2,  3,  4],\n",
       "       [ 7,  8,  9],\n",
       "       [12, 13, 14]])"
      ]
     },
     "execution_count": 120,
     "metadata": {},
     "output_type": "execute_result"
    }
   ],
   "source": [
    "l[:,:,0][:3,1:4]"
   ]
  },
  {
   "cell_type": "code",
   "execution_count": 121,
   "metadata": {},
   "outputs": [
    {
     "data": {
      "text/plain": [
       "array([[1, 1, 0],\n",
       "       [2, 2, 0],\n",
       "       [3, 3, 0]])"
      ]
     },
     "execution_count": 121,
     "metadata": {},
     "output_type": "execute_result"
    }
   ],
   "source": [
    "np.pad(r[:,:,0][:3,3:],((0,0),(0,1)))"
   ]
  },
  {
   "cell_type": "code",
   "execution_count": 122,
   "metadata": {},
   "outputs": [
    {
     "data": {
      "text/plain": [
       "540"
      ]
     },
     "execution_count": 122,
     "metadata": {},
     "output_type": "execute_result"
    }
   ],
   "source": [
    "np.sum((l[:,:,0][:3,1:4] - np.pad(r[:,:,0][:3,3:],((0,0),(0,1))))**2)"
   ]
  },
  {
   "cell_type": "code",
   "execution_count": null,
   "metadata": {},
   "outputs": [],
   "source": [
    "calc_disperity(ssdd_tensor)"
   ]
  },
  {
   "cell_type": "code",
   "execution_count": 96,
   "metadata": {},
   "outputs": [],
   "source": [
    "a,b=disperity_shift_diff2(l,r,2)"
   ]
  },
  {
   "cell_type": "code",
   "execution_count": null,
   "metadata": {},
   "outputs": [],
   "source": [
    "-2,-1,0,1,2"
   ]
  },
  {
   "cell_type": "code",
   "execution_count": 150,
   "metadata": {},
   "outputs": [
    {
     "data": {
      "text/plain": [
       "array([[ 8,  9, 10],\n",
       "       [13, 14, 15],\n",
       "       [18, 19, 20]])"
      ]
     },
     "execution_count": 150,
     "metadata": {},
     "output_type": "execute_result"
    }
   ],
   "source": [
    "l[:,:,0][1:,2:]"
   ]
  },
  {
   "cell_type": "code",
   "execution_count": 153,
   "metadata": {},
   "outputs": [
    {
     "data": {
      "text/plain": [
       "array([[2, 2, 2],\n",
       "       [3, 3, 3],\n",
       "       [4, 4, 4]])"
      ]
     },
     "execution_count": 153,
     "metadata": {},
     "output_type": "execute_result"
    }
   ],
   "source": [
    "r[:,:,0][1:4,2:5]"
   ]
  },
  {
   "cell_type": "code",
   "execution_count": 151,
   "metadata": {},
   "outputs": [
    {
     "data": {
      "text/plain": [
       "array([[1, 1, 1, 1, 1],\n",
       "       [2, 2, 2, 2, 2],\n",
       "       [3, 3, 3, 3, 3],\n",
       "       [4, 4, 4, 4, 4]])"
      ]
     },
     "execution_count": 151,
     "metadata": {},
     "output_type": "execute_result"
    }
   ],
   "source": [
    "r[:,:,0]"
   ]
  },
  {
   "cell_type": "code",
   "execution_count": 135,
   "metadata": {},
   "outputs": [
    {
     "data": {
      "text/plain": [
       "array([1, 1, 1, 2, 2, 2, 3, 3, 3])"
      ]
     },
     "execution_count": 135,
     "metadata": {},
     "output_type": "execute_result"
    }
   ],
   "source": [
    "r[:,:,0][:3,1:4].flatten()"
   ]
  },
  {
   "cell_type": "code",
   "execution_count": 143,
   "metadata": {},
   "outputs": [],
   "source": [
    "def pp(x,y):\n",
    "    for xx,yy in zip(x.flatten(),y.flatten()):\n",
    "        print(f'({xx}-{yy})^2+',end='')"
   ]
  },
  {
   "cell_type": "code",
   "execution_count": 157,
   "metadata": {},
   "outputs": [
    {
     "name": "stdout",
     "output_type": "stream",
     "text": [
      "(8-2)^2+(9-2)^2+(10-2)^2+(13-3)^2+(14-3)^2+(15-3)^2+(18-4)^2+(19-4)^2+(20-4)^2+"
     ]
    }
   ],
   "source": [
    "pp(l[:,:,0][1:,2:],r[:,:,0][1:4,2:5])"
   ]
  },
  {
   "cell_type": "code",
   "execution_count": 134,
   "metadata": {},
   "outputs": [
    {
     "data": {
      "text/plain": [
       "426"
      ]
     },
     "execution_count": 134,
     "metadata": {},
     "output_type": "execute_result"
    }
   ],
   "source": [
    "np.sum((l[:,:,0][:3,1:4]-r[:,:,0][:3,1:4])**2)"
   ]
  },
  {
   "cell_type": "code",
   "execution_count": 155,
   "metadata": {},
   "outputs": [
    {
     "data": {
      "text/plain": [
       "1191"
      ]
     },
     "execution_count": 155,
     "metadata": {},
     "output_type": "execute_result"
    }
   ],
   "source": [
    "np.sum((l[:,:,0][1:,2:]-r[:,:,0][1:4,2:5])**2)"
   ]
  },
  {
   "cell_type": "code",
   "execution_count": 90,
   "metadata": {},
   "outputs": [
    {
     "name": "stdout",
     "output_type": "stream",
     "text": [
      "426\n",
      "426\n",
      "1191\n",
      "1191\n"
     ]
    }
   ],
   "source": [
    "print(ssdd_tensor[1,2,2])\n",
    "print(ssdd_tensor[1,2,3])\n",
    "print(ssdd_tensor[2,3,0])\n",
    "print(ssdd_tensor[2,3,1])\n",
    "\n",
    "# print(ssdd_tensor[1,2,1])"
   ]
  },
  {
   "cell_type": "code",
   "execution_count": null,
   "metadata": {},
   "outputs": [],
   "source": [
    "np.array(range(1,21)).reshape((4,5))"
   ]
  },
  {
   "cell_type": "code",
   "execution_count": null,
   "metadata": {},
   "outputs": [],
   "source": [
    "np.array([[i for j in range(5)] for i in range(1,5)])"
   ]
  },
  {
   "cell_type": "code",
   "execution_count": 79,
   "metadata": {},
   "outputs": [],
   "source": [
    "\n",
    "ssdd_tensor = s.ssd_distance(left_image,right_image,win_size,dsp_range)"
   ]
  },
  {
   "cell_type": "code",
   "execution_count": null,
   "metadata": {},
   "outputs": [],
   "source": [
    "np.sum(ssdd_tensor)"
   ]
  },
  {
   "cell_type": "code",
   "execution_count": null,
   "metadata": {},
   "outputs": [],
   "source": [
    "depth = ssdd_tensor.argmin(axis=-1)"
   ]
  },
  {
   "cell_type": "code",
   "execution_count": null,
   "metadata": {},
   "outputs": [],
   "source": [
    "plt.imshow(depth)"
   ]
  },
  {
   "cell_type": "code",
   "execution_count": null,
   "metadata": {},
   "outputs": [],
   "source": [
    "##############################################"
   ]
  },
  {
   "cell_type": "code",
   "execution_count": 62,
   "metadata": {},
   "outputs": [],
   "source": [
    "dsp_range = 20\n",
    "win_size = 4\n",
    "num_of_rows, num_of_cols = left_image.shape[0], left_image.shape[1]\n",
    "disparity_values = range(-dsp_range, dsp_range+1)\n",
    "ssdd_tensor = np.zeros((num_of_rows,\n",
    "                        num_of_cols,\n",
    "                        len(disparity_values)))\n",
    "\"\"\"INSERT YOUR CODE HERE\"\"\"\n",
    "\n",
    "as_strided = np.lib.stride_tricks.as_strided\n",
    "\n",
    "def pad_image_one_side(img, amount, side):\n",
    "    if side == 'l':\n",
    "        amount_padding = (amount, 0)\n",
    "    else:\n",
    "        amount_padding = (0, amount)\n",
    "    img = np.stack(\n",
    "        [np.pad(img[:, :, c], ((0, 0), amount_padding), mode='constant', constant_values=0) for c in\n",
    "         range(img.shape[-1])],\n",
    "        axis=2)\n",
    "    return img, amount_padding\n",
    "\n",
    "def pad_image(img, pad, amount_padding,even_win):\n",
    "    if even_win:\n",
    "        x_pad = np.array((pad, pad-1)) - np.array(amount_padding).clip(0, None)\n",
    "    else:\n",
    "        x_pad = np.array((pad, pad)) - np.array(amount_padding).clip(0, None)\n",
    "    x_pad_cliped = np.clip(x_pad, a_min=0, a_max=None)\n",
    "    if even_win:\n",
    "        img = np.pad(img, ((pad, pad-1), x_pad_cliped), mode='constant', constant_values=0)\n",
    "    else:\n",
    "        img = np.pad(img, ((pad, pad), x_pad_cliped), mode='constant', constant_values=0)\n",
    "    return img, x_pad\n",
    "\n",
    "def disperity_shift_diff(left_image, right_image, dsp):\n",
    "    if dsp > 0:\n",
    "        left_image_shifted, amount_padding = pad_image_one_side(left_image, dsp, 'l')\n",
    "        right_image_shifted, _ = pad_image_one_side(right_image, dsp, 'r')\n",
    "    elif dsp < 0:\n",
    "        left_image_shifted, amount_padding = pad_image_one_side(left_image, -1 * dsp, 'r')\n",
    "        right_image_shifted, _ = pad_image_one_side(right_image, -1 * dsp, 'l')\n",
    "    else:\n",
    "        left_image_shifted, right_image_shifted = left_image, right_image\n",
    "        amount_padding = (0, 0)\n",
    "    diff = (left_image_shifted - right_image_shifted) ** 2\n",
    "    diff = diff.sum(axis=-1)\n",
    "    return diff, amount_padding\n",
    "\n",
    "def strided_view(A, kernel_size, stride):\n",
    "    output_shape = ((A.shape[0] - kernel_size) // stride + 1,\n",
    "                    (A.shape[1] - kernel_size) // stride + 1)\n",
    "\n",
    "    shape_w = (output_shape[0], output_shape[1], kernel_size, kernel_size)\n",
    "    strides_w = (stride * A.strides[0], stride * A.strides[1], A.strides[0], A.strides[1])\n",
    "\n",
    "    A_w = as_strided(A, shape_w, strides_w)\n",
    "    return A_w\n",
    "\n",
    "def calc_disperity(left_image, right_image, win_size, dsp):\n",
    "    even_win = (win_size%2==0)\n",
    "    padding_size = int(np.floor(win_size / 2))\n",
    "    diff, amount_padding = disperity_shift_diff(left_image, right_image, dsp)\n",
    "    padded_diff, padding = pad_image(diff, padding_size, amount_padding,even_win)\n",
    "    l, r = np.clip(padding, None, 0) * -1\n",
    "    sum_pool = strided_view(padded_diff, win_size, 1).sum(axis=(2, 3))\n",
    "    sum_pool = sum_pool[:, l:sum_pool.shape[1] - r]\n",
    "    return sum_pool\n",
    "\n",
    "ssdd_tensor = np.stack([calc_disperity(left_image, right_image, win_size, d) for d in disparity_values], axis=-1)\n",
    "\n",
    "ssdd_tensor -= ssdd_tensor.min()\n",
    "ssdd_tensor /= ssdd_tensor.max()\n",
    "ssdd_tensor *= 255.0\n"
   ]
  },
  {
   "cell_type": "code",
   "execution_count": 68,
   "metadata": {},
   "outputs": [],
   "source": [
    "dsp = 3\n",
    "win_size= 5\n",
    "even_win = (win_size%2==0)\n",
    "padding_size = int(np.floor(win_size / 2))\n",
    "diff, amount_padding = disperity_shift_diff(left_image, right_image, dsp)\n",
    "padded_diff, padding = pad_image(diff, padding_size, amount_padding,even_win)\n",
    "l, r = np.clip(padding, None, 0) * -1\n",
    "sum_pool = strided_view(padded_diff, win_size, 1).sum(axis=(2, 3))\n",
    "sum_pool = sum_pool[:, l:sum_pool.shape[1] - r]\n"
   ]
  },
  {
   "cell_type": "code",
   "execution_count": 69,
   "metadata": {},
   "outputs": [
    {
     "data": {
      "text/plain": [
       "5"
      ]
     },
     "execution_count": 69,
     "metadata": {},
     "output_type": "execute_result"
    }
   ],
   "source": [
    "win_size"
   ]
  },
  {
   "cell_type": "code",
   "execution_count": 70,
   "metadata": {},
   "outputs": [
    {
     "data": {
      "text/plain": [
       "2"
      ]
     },
     "execution_count": 70,
     "metadata": {},
     "output_type": "execute_result"
    }
   ],
   "source": [
    "padding_size"
   ]
  },
  {
   "cell_type": "code",
   "execution_count": 71,
   "metadata": {},
   "outputs": [
    {
     "data": {
      "text/plain": [
       "(413, 499)"
      ]
     },
     "execution_count": 71,
     "metadata": {},
     "output_type": "execute_result"
    }
   ],
   "source": [
    "sum_pool.shape"
   ]
  },
  {
   "cell_type": "code",
   "execution_count": 72,
   "metadata": {},
   "outputs": [
    {
     "data": {
      "text/plain": [
       "(413, 499, 4)"
      ]
     },
     "execution_count": 72,
     "metadata": {},
     "output_type": "execute_result"
    }
   ],
   "source": [
    "right_image.shape"
   ]
  },
  {
   "cell_type": "code",
   "execution_count": 24,
   "metadata": {},
   "outputs": [
    {
     "data": {
      "text/plain": [
       "array([-1,  2])"
      ]
     },
     "execution_count": 24,
     "metadata": {},
     "output_type": "execute_result"
    }
   ],
   "source": [
    "padding"
   ]
  },
  {
   "cell_type": "code",
   "execution_count": 20,
   "metadata": {},
   "outputs": [
    {
     "data": {
      "text/plain": [
       "(414, 500)"
      ]
     },
     "execution_count": 20,
     "metadata": {},
     "output_type": "execute_result"
    }
   ],
   "source": [
    "sum_pool.shape"
   ]
  },
  {
   "cell_type": "code",
   "execution_count": 14,
   "metadata": {},
   "outputs": [
    {
     "data": {
      "text/plain": [
       "(414, 500, 41)"
      ]
     },
     "execution_count": 14,
     "metadata": {},
     "output_type": "execute_result"
    }
   ],
   "source": [
    "ssdd_tensor.shape"
   ]
  },
  {
   "cell_type": "code",
   "execution_count": 13,
   "metadata": {},
   "outputs": [],
   "source": [
    "from solution import Solution"
   ]
  },
  {
   "cell_type": "code",
   "execution_count": 14,
   "metadata": {},
   "outputs": [],
   "source": [
    "solution = Solution()\n",
    "# Compute Sum-Square-Diff distance\n",
    "ssdd = solution.ssd_distance(left_image.astype(np.float64),\n",
    "                             right_image.astype(np.float64),\n",
    "                             win_size=4,\n",
    "                             dsp_range=20)\n",
    "\n"
   ]
  },
  {
   "cell_type": "code",
   "execution_count": 8,
   "metadata": {},
   "outputs": [
    {
     "data": {
      "text/plain": [
       "(414, 500, 41)"
      ]
     },
     "execution_count": 8,
     "metadata": {},
     "output_type": "execute_result"
    }
   ],
   "source": [
    "ssdd.shape"
   ]
  },
  {
   "cell_type": "code",
   "execution_count": 7,
   "metadata": {},
   "outputs": [
    {
     "data": {
      "text/plain": [
       "(413, 499, 4)"
      ]
     },
     "execution_count": 7,
     "metadata": {},
     "output_type": "execute_result"
    }
   ],
   "source": [
    "left_image.shape"
   ]
  },
  {
   "cell_type": "code",
   "execution_count": null,
   "metadata": {},
   "outputs": [],
   "source": [
    "plt.imshow(ssdd.argmin(axis=-1))"
   ]
  },
  {
   "cell_type": "code",
   "execution_count": null,
   "metadata": {},
   "outputs": [],
   "source": [
    "# Construct naive disparity image\n",
    "label_map = solution.dp_labeling(ssdd,0.1,0.3)\n",
    "\n",
    "# plot the left image and the estimated depth\n",
    "fig = plt.figure()\n",
    "plt.subplot(1, 1, 1)\n",
    "plt.imshow(left_image)\n",
    "plt.subplot(1, 1, 1)\n",
    "plt.imshow(label_map)\n",
    "plt.colorbar()\n",
    "plt.title('Naive Depth')"
   ]
  },
  {
   "cell_type": "code",
   "execution_count": null,
   "metadata": {},
   "outputs": [],
   "source": [
    "# Construct naive disparity image\n",
    "label_map = solution.dp_labeling(ssdd,0.5,3)\n",
    "\n",
    "# plot the left image and the estimated depth\n",
    "fig = plt.figure()\n",
    "plt.subplot(1, 1, 1)\n",
    "plt.imshow(left_image)\n",
    "plt.subplot(1, 1, 1)\n",
    "plt.imshow(label_map)\n",
    "plt.colorbar()\n",
    "plt.title('Naive Depth')"
   ]
  },
  {
   "cell_type": "code",
   "execution_count": null,
   "metadata": {},
   "outputs": [],
   "source": [
    "label_map"
   ]
  },
  {
   "cell_type": "code",
   "execution_count": null,
   "metadata": {},
   "outputs": [],
   "source": [
    "ssdd.shape"
   ]
  },
  {
   "cell_type": "code",
   "execution_count": null,
   "metadata": {},
   "outputs": [],
   "source": [
    "ssdd[0,:,:].shape"
   ]
  },
  {
   "cell_type": "code",
   "execution_count": null,
   "metadata": {},
   "outputs": [],
   "source": [
    "p1,p2 =  0.5, 3.0"
   ]
  },
  {
   "cell_type": "code",
   "execution_count": null,
   "metadata": {},
   "outputs": [],
   "source": [
    "c_slice = np.array(range(100)).reshape(10,10)#ssdd[0,:,:].T"
   ]
  },
  {
   "cell_type": "code",
   "execution_count": null,
   "metadata": {},
   "outputs": [],
   "source": [
    "c_slice.shape"
   ]
  },
  {
   "cell_type": "code",
   "execution_count": null,
   "metadata": {},
   "outputs": [],
   "source": [
    "solution.dp_grade_slice(c_slice,p1,p2)"
   ]
  },
  {
   "cell_type": "code",
   "execution_count": null,
   "metadata": {},
   "outputs": [],
   "source": [
    "num_labels, num_of_cols = c_slice.shape[0], c_slice.shape[1]\n",
    "l_slice = np.zeros((num_labels, num_of_cols))\n",
    "l_slice[:, 0] = c_slice[:, 0]\n",
    "\n",
    "b_indexs = np.arange(1, l_slice.shape[0] + 1)\n",
    "\n",
    "l_slice = np.pad(l_slice, ((1, 1), (0, 0)), mode='constant', constant_values=np.inf)\n"
   ]
  },
  {
   "cell_type": "code",
   "execution_count": 7,
   "metadata": {},
   "outputs": [],
   "source": [
    "def fill_L(k):\n",
    "    a = l_slice[:, k - 1][b_indexs]\n",
    "    b = np.min((l_slice[:, k - 1][b_indexs + 1], l_slice[:, k - 1][b_indexs - 1]), axis=0) + p1\n",
    "    c_min_val = np.ones_like(b_indexs) * l_slice[:, k - 1].min()\n",
    "    c = c_min_val + p2\n",
    "    m = np.min((a, b, c), axis=0)\n",
    "    print(f'chosen {m}')\n",
    "    print(c_min_val)\n",
    "    print(c_slice[:, k])\n",
    "    l_slice[1:-1, k] = np.min((a, b, c), axis=0) + c_slice[:, k] - c_min_val\n"
   ]
  },
  {
   "cell_type": "code",
   "execution_count": null,
   "metadata": {},
   "outputs": [],
   "source": [
    "0.01684192+0.02442079"
   ]
  },
  {
   "cell_type": "code",
   "execution_count": null,
   "metadata": {},
   "outputs": [],
   "source": [
    "fill_L(1)"
   ]
  },
  {
   "cell_type": "code",
   "execution_count": null,
   "metadata": {},
   "outputs": [],
   "source": [
    "l_slice"
   ]
  },
  {
   "cell_type": "code",
   "execution_count": null,
   "metadata": {},
   "outputs": [],
   "source": [
    "fi"
   ]
  },
  {
   "cell_type": "code",
   "execution_count": 8,
   "metadata": {},
   "outputs": [],
   "source": [
    "def dp_grade_slice(c_slice: np.ndarray, p1: float, p2: float) -> np.ndarray:\n",
    "    num_labels, num_of_cols = c_slice.shape[0], c_slice.shape[1]\n",
    "    l_slice = np.zeros((num_labels, num_of_cols))\n",
    "    \"\"\"INSERT YOUR CODE HERE\"\"\"\n",
    "    l_slice[:, 0] = c_slice[:, 0]\n",
    "    b_indexs = np.arange(1, l_slice.shape[0] + 1)\n",
    "\n",
    "    l_slice = np.pad(l_slice, ((1, 1), (0, 0)), mode='constant', constant_values=np.inf)\n",
    "\n",
    "    def fill_L(k):\n",
    "        a = l_slice[:, k - 1][b_indexs]\n",
    "        b = np.min((l_slice[:, k - 1][b_indexs + 1], l_slice[:, k - 1][b_indexs - 1]), axis=0) + p1\n",
    "        c_min_val = np.ones_like(b_indexs) * l_slice[:, k - 1].min()\n",
    "        c = c_min_val + p2\n",
    "        l_slice[1:-1, k] = np.min((a, b, c), axis=0) + c_slice[:, k] - c_min_val\n",
    "\n",
    "    for k in range(1, l_slice.shape[1]):\n",
    "        fill_L(k)\n",
    "\n",
    "    l_slice = l_slice[1:-1, :]\n",
    "\n",
    "    return l_slice"
   ]
  },
  {
   "cell_type": "code",
   "execution_count": null,
   "metadata": {},
   "outputs": [],
   "source": [
    "ssdd.shape"
   ]
  },
  {
   "cell_type": "code",
   "execution_count": 17,
   "metadata": {},
   "outputs": [],
   "source": [
    "Ls = []\n",
    "for i in range(ssdd.shape[0]):\n",
    "    c_slice = ssdd[i,:,:].T\n",
    "    l = dp_grade_slice(c_slice,p1,p2)\n",
    "    Ls.append(l.T)"
   ]
  },
  {
   "cell_type": "code",
   "execution_count": null,
   "metadata": {},
   "outputs": [],
   "source": [
    "plt.imshow(np.array(Ls).argmin(axis=-1))"
   ]
  },
  {
   "cell_type": "code",
   "execution_count": null,
   "metadata": {},
   "outputs": [],
   "source": [
    "from solution import Solution"
   ]
  },
  {
   "cell_type": "code",
   "execution_count": 16,
   "metadata": {},
   "outputs": [
    {
     "ename": "NameError",
     "evalue": "name 'dp_labeling' is not defined",
     "output_type": "error",
     "traceback": [
      "\u001b[0;31m---------------------------------------------------------------------------\u001b[0m",
      "\u001b[0;31mNameError\u001b[0m                                 Traceback (most recent call last)",
      "\u001b[0;32m/tmp/ipykernel_25362/1589432420.py\u001b[0m in \u001b[0;36m<module>\u001b[0;34m\u001b[0m\n\u001b[1;32m      1\u001b[0m \u001b[0mp1\u001b[0m\u001b[0;34m,\u001b[0m\u001b[0mp2\u001b[0m \u001b[0;34m=\u001b[0m  \u001b[0;36m0.5\u001b[0m\u001b[0;34m,\u001b[0m \u001b[0;36m3.0\u001b[0m\u001b[0;34m\u001b[0m\u001b[0;34m\u001b[0m\u001b[0m\n\u001b[0;32m----> 2\u001b[0;31m \u001b[0mdp\u001b[0m \u001b[0;34m=\u001b[0m \u001b[0mdp_labeling\u001b[0m\u001b[0;34m(\u001b[0m\u001b[0mssdd\u001b[0m\u001b[0;34m,\u001b[0m\u001b[0mp1\u001b[0m\u001b[0;34m,\u001b[0m\u001b[0mp2\u001b[0m\u001b[0;34m)\u001b[0m\u001b[0;34m\u001b[0m\u001b[0;34m\u001b[0m\u001b[0m\n\u001b[0m",
      "\u001b[0;31mNameError\u001b[0m: name 'dp_labeling' is not defined"
     ]
    }
   ],
   "source": [
    "p1,p2 =  0.5, 3.0\n",
    "dp = dp_labeling(ssdd,p1,p2)"
   ]
  },
  {
   "cell_type": "code",
   "execution_count": null,
   "metadata": {},
   "outputs": [],
   "source": [
    "np.unravel_index(6,(3,3))"
   ]
  },
  {
   "cell_type": "code",
   "execution_count": null,
   "metadata": {},
   "outputs": [],
   "source": [
    "plt.imshow(dp)"
   ]
  },
  {
   "cell_type": "code",
   "execution_count": null,
   "metadata": {},
   "outputs": [],
   "source": [
    "Ls[0].shape"
   ]
  },
  {
   "cell_type": "code",
   "execution_count": null,
   "metadata": {},
   "outputs": [],
   "source": [
    "Ls[0][:,1]"
   ]
  },
  {
   "cell_type": "code",
   "execution_count": null,
   "metadata": {},
   "outputs": [],
   "source": [
    "Ls[0][:,0]"
   ]
  },
  {
   "cell_type": "code",
   "execution_count": null,
   "metadata": {},
   "outputs": [],
   "source": []
  },
  {
   "cell_type": "code",
   "execution_count": 38,
   "metadata": {},
   "outputs": [],
   "source": [
    "L = np.zeros_like(c_slice)"
   ]
  },
  {
   "cell_type": "code",
   "execution_count": 39,
   "metadata": {},
   "outputs": [],
   "source": [
    "L[:,0] = c_slice[:,0]"
   ]
  },
  {
   "cell_type": "code",
   "execution_count": 40,
   "metadata": {},
   "outputs": [],
   "source": [
    "b_indexs=  np.arange(1,L.shape[0]+1) \n"
   ]
  },
  {
   "cell_type": "code",
   "execution_count": 41,
   "metadata": {},
   "outputs": [],
   "source": [
    "L = np.pad(L,((1,1),(0,0)), mode='constant', constant_values=np.inf)"
   ]
  },
  {
   "cell_type": "code",
   "execution_count": 33,
   "metadata": {},
   "outputs": [],
   "source": [
    "def fill_L(k):\n",
    "    a = L[:,k-1][b_indexs]\n",
    "    b = np.min((L[:,k-1][b_indexs+1],L[:,k-1][b_indexs-1]),axis=0) + p1\n",
    "    c_min_val = np.ones_like(b_indexs)*L[:,k-1].min() \n",
    "    c = c_min_val + p2\n",
    "    L[1:-1,k] = np.min((a,b,c),axis=0) + c_slice[:,k] - c_min_val"
   ]
  },
  {
   "cell_type": "code",
   "execution_count": 56,
   "metadata": {},
   "outputs": [
    {
     "data": {
      "text/plain": [
       "383"
      ]
     },
     "execution_count": 56,
     "metadata": {},
     "output_type": "execute_result"
    }
   ],
   "source": [
    "k"
   ]
  },
  {
   "cell_type": "code",
   "execution_count": 57,
   "metadata": {},
   "outputs": [],
   "source": [
    "a = L[:,k-1][b_indexs]\n",
    "b = np.min((L[:,k-1][b_indexs+1],L[:,k-1][b_indexs-1]),axis=0) + p1\n",
    "c_min_val = np.ones_like(b_indexs)*L[:,k-1].min() \n",
    "c = c_min_val + p2\n",
    "L[1:-1,k] = np.min((a,b,c),axis=0) + c_slice[:,k] - c_min_val"
   ]
  },
  {
   "cell_type": "code",
   "execution_count": 67,
   "metadata": {},
   "outputs": [],
   "source": [
    "k  = 0"
   ]
  },
  {
   "cell_type": "code",
   "execution_count": 68,
   "metadata": {},
   "outputs": [],
   "source": [
    "first_min = L[:,k].min()\n",
    "first_min_idx = L[:,k].argmin()"
   ]
  },
  {
   "cell_type": "code",
   "execution_count": 76,
   "metadata": {},
   "outputs": [
    {
     "data": {
      "text/plain": [
       "array([       inf, 0.73788177, 0.73788177, 0.73788177, 0.73788177,\n",
       "       0.73788177, 0.73788177, 0.73788177, 0.73788177, 0.73788177,\n",
       "       0.73788177, 0.73788177, 0.73788177, 0.73788177, 0.73788177,\n",
       "       0.73788177, 0.73788177, 0.73788177, 0.73788177, 0.73788177,\n",
       "       0.87644392, 0.00325353, 0.92304598, 1.14332919, 0.45195379,\n",
       "       0.44850886, 0.46276698, 0.4396095 , 0.45195378, 0.45989622,\n",
       "       0.44774332, 0.43434643, 0.48152263, 0.43492058, 0.45788669,\n",
       "       0.44343718, 0.46219283, 0.41568647, 0.47386728, 0.46936975,\n",
       "       0.46879559, 0.46755159,        inf])"
      ]
     },
     "execution_count": 76,
     "metadata": {},
     "output_type": "execute_result"
    }
   ],
   "source": [
    "L[:,k]"
   ]
  },
  {
   "cell_type": "code",
   "execution_count": 77,
   "metadata": {},
   "outputs": [
    {
     "data": {
      "text/plain": [
       "0.4156864665597153"
      ]
     },
     "execution_count": 77,
     "metadata": {},
     "output_type": "execute_result"
    }
   ],
   "source": [
    "second_min = np.delete(L[:,k],first_min_idx).min()"
   ]
  },
  {
   "cell_type": "code",
   "execution_count": 43,
   "metadata": {},
   "outputs": [
    {
     "data": {
      "text/plain": [
       "array([inf,  0.,  0.,  0.,  0.,  0.,  0.,  0.,  0.,  0.,  0.,  0.,  0.,\n",
       "        0.,  0.,  0.,  0.,  0.,  0.,  0.,  0.,  0.,  0.,  0.,  0.,  0.,\n",
       "        0.,  0.,  0.,  0.,  0.,  0.,  0.,  0.,  0.,  0.,  0.,  0.,  0.,\n",
       "        0.,  0.,  0., inf])"
      ]
     },
     "execution_count": 43,
     "metadata": {},
     "output_type": "execute_result"
    }
   ],
   "source": [
    "L[:,k-1]"
   ]
  },
  {
   "cell_type": "code",
   "execution_count": 42,
   "metadata": {},
   "outputs": [],
   "source": [
    "a = L[:,k-1][b_indexs]\n",
    "b = np.min((L[:,k-1][b_indexs+1],L[:,k-1][b_indexs-1]),axis=0) + p1"
   ]
  },
  {
   "cell_type": "code",
   "execution_count": 34,
   "metadata": {},
   "outputs": [
    {
     "data": {
      "text/plain": [
       "384"
      ]
     },
     "execution_count": 34,
     "metadata": {},
     "output_type": "execute_result"
    }
   ],
   "source": [
    "L.shape[1]"
   ]
  },
  {
   "cell_type": "code",
   "execution_count": 35,
   "metadata": {},
   "outputs": [],
   "source": [
    "for k in range(1,L.shape[1]):\n",
    "    fill_L(k)"
   ]
  },
  {
   "cell_type": "code",
   "execution_count": 36,
   "metadata": {},
   "outputs": [
    {
     "name": "stdout",
     "output_type": "stream",
     "text": [
      "[[        inf         inf         inf ...         inf         inf\n",
      "          inf]\n",
      " [ 0.73788177  1.53365726  2.41938332 ...  4.38820531  4.29404427\n",
      "   5.48981272]\n",
      " [ 0.73788177  1.53365726  2.41938332 ...  4.32370881  4.36389949\n",
      "   5.40263723]\n",
      " ...\n",
      " [ 0.46879559  0.83386094  1.07806717 ... 13.41914698 13.02508695\n",
      "  10.85038842]\n",
      " [ 0.46755159  0.82256927  1.05969429 ... 13.41914698 13.02508695\n",
      "  10.85038842]\n",
      " [        inf         inf         inf ...         inf         inf\n",
      "          inf]]\n"
     ]
    }
   ],
   "source": [
    "print(L)"
   ]
  },
  {
   "cell_type": "code",
   "execution_count": null,
   "metadata": {},
   "outputs": [],
   "source": [
    "k=1"
   ]
  },
  {
   "cell_type": "code",
   "execution_count": null,
   "metadata": {},
   "outputs": [],
   "source": [
    "a = L[:,k-1][b_indexs]\n",
    "b = np.min((L[:,k-1][b_indexs+1],L[:,k-1][b_indexs-1]),axis=0) + p1\n",
    "c = np.ones_like(b_indexs)*L[:,k-1].min() + p2 \n"
   ]
  },
  {
   "cell_type": "code",
   "execution_count": null,
   "metadata": {},
   "outputs": [],
   "source": [
    "    L[1:-1,k] = np.min((a,b,c),axis=0)"
   ]
  },
  {
   "cell_type": "code",
   "execution_count": null,
   "metadata": {},
   "outputs": [],
   "source": [
    "np.min((a,b,c),axis=0)"
   ]
  },
  {
   "cell_type": "code",
   "execution_count": null,
   "metadata": {},
   "outputs": [],
   "source": [
    "L[:,0][42]"
   ]
  },
  {
   "cell_type": "code",
   "execution_count": null,
   "metadata": {},
   "outputs": [],
   "source": [
    "b_indexs"
   ]
  },
  {
   "cell_type": "code",
   "execution_count": null,
   "metadata": {},
   "outputs": [],
   "source": [
    "###########################"
   ]
  },
  {
   "cell_type": "code",
   "execution_count": null,
   "metadata": {},
   "outputs": [],
   "source": [
    "ssdd.shape"
   ]
  },
  {
   "cell_type": "code",
   "execution_count": 18,
   "metadata": {},
   "outputs": [],
   "source": [
    "def flipper(x):\n",
    "    return [np.fliplr(x) for x in x]"
   ]
  },
  {
   "cell_type": "code",
   "execution_count": 19,
   "metadata": {},
   "outputs": [],
   "source": [
    "def directions_slices(ssdd):\n",
    "    d1 =  [ssdd[i].T for i in range(ssdd.shape[0])]\n",
    "    d2 = diagonolize(ssdd)\n",
    "    d3 = [ssdd[:,i].T for i in range(ssdd.shape[1])]\n",
    "    d4 = diagonolize(np.fliplr(ssdd))\n",
    "    d5,d6,d7,d8 = map(flipper,[d1,d2,d3,d4])\n",
    "    return [d1,d2,d3,d4,d5,d6,d7,d8]"
   ]
  },
  {
   "cell_type": "code",
   "execution_count": null,
   "metadata": {},
   "outputs": [],
   "source": [
    "[d1,d2,d3,d4,d5,d6,d7,d8] = directions_slices(ssdd)"
   ]
  },
  {
   "cell_type": "code",
   "execution_count": null,
   "metadata": {},
   "outputs": [],
   "source": [
    "diagonolize(ssdd)[100].shape"
   ]
  },
  {
   "cell_type": "code",
   "execution_count": null,
   "metadata": {},
   "outputs": [],
   "source": [
    "len(d1)"
   ]
  },
  {
   "cell_type": "code",
   "execution_count": null,
   "metadata": {},
   "outputs": [],
   "source": [
    "g=[dp_grade_slice(ssdd[i,:,:].T,p1,p2).T for i in range(ssdd.shape[0])]"
   ]
  },
  {
   "cell_type": "code",
   "execution_count": null,
   "metadata": {},
   "outputs": [],
   "source": [
    "plt.imshow(np.stack(g).argmin(axis=-1))"
   ]
  },
  {
   "cell_type": "code",
   "execution_count": null,
   "metadata": {},
   "outputs": [],
   "source": [
    "s[:,:,0]"
   ]
  },
  {
   "cell_type": "code",
   "execution_count": null,
   "metadata": {},
   "outputs": [],
   "source": [
    "np.fliplr(np.stack(directions_slices(s[:,:,0])[4]))"
   ]
  },
  {
   "cell_type": "code",
   "execution_count": null,
   "metadata": {},
   "outputs": [],
   "source": [
    "directions_slices(s[:,:,0])[6]"
   ]
  },
  {
   "cell_type": "code",
   "execution_count": null,
   "metadata": {},
   "outputs": [],
   "source": [
    "s_slice.shape"
   ]
  },
  {
   "cell_type": "code",
   "execution_count": null,
   "metadata": {},
   "outputs": [],
   "source": [
    "s.shape"
   ]
  },
  {
   "cell_type": "code",
   "execution_count": null,
   "metadata": {},
   "outputs": [],
   "source": [
    "c_slice.shape"
   ]
  },
  {
   "cell_type": "code",
   "execution_count": null,
   "metadata": {},
   "outputs": [],
   "source": [
    "p1 = 0.3\n",
    "p2 = 2\n",
    "graded_direction = []\n",
    "for direction_slices in directions_slices(ssdd):\n",
    "    graded_slices = []\n",
    "    for c_slice in direction_slices:\n",
    "        if c_slice.shape[1]>0:\n",
    "            graded_slices.append(Solution.dp_grade_slice(c_slice,p1,p2)) \n",
    "    graded_direction.append(graded_slices)"
   ]
  },
  {
   "cell_type": "code",
   "execution_count": null,
   "metadata": {},
   "outputs": [],
   "source": [
    "d8_l.shape"
   ]
  },
  {
   "cell_type": "code",
   "execution_count": null,
   "metadata": {},
   "outputs": [],
   "source": [
    "d1_l = np.stack(list(map(np.transpose,graded_direction[0])))\n",
    "d2_l = undiagonlize(ssdd.shape,graded_direction[1])\n",
    "d3_l = np.stack(list(map(np.transpose,graded_direction[2]))).transpose(1,0,2)\n",
    "d4_l = np.fliplr(undiagonlize(ssdd.shape,graded_direction[3]))\n",
    "d5_l = np.fliplr(list(map(np.transpose,graded_direction[4])))\n",
    "d6_l = undiagonlize(ssdd.shape,flipper(graded_direction[5]))\n",
    "d7_l = np.stack(list(map(np.transpose,flipper(graded_direction[6])))).transpose(1,0,2)\n",
    "d8_l = np.fliplr(undiagonlize(ssdd.shape,flipper(graded_direction[7])))"
   ]
  },
  {
   "cell_type": "code",
   "execution_count": null,
   "metadata": {},
   "outputs": [],
   "source": [
    "ssdd.shape"
   ]
  },
  {
   "cell_type": "code",
   "execution_count": null,
   "metadata": {},
   "outputs": [],
   "source": [
    "plt.imshow(np.mean([d1_l,d2_l,d3_l,d4_l,d5_l,d6_l,d7_l,d8_l],axis=0).argmin(axis=-1))"
   ]
  },
  {
   "cell_type": "code",
   "execution_count": null,
   "metadata": {},
   "outputs": [],
   "source": [
    "for d in [d1_l,d2_l,d3_l,d4_l,d5_l,d6_l,d7_l,d8_l]:\n",
    "    plt.imshow(d.argmin(axis=-1))\n",
    "    plt.show()"
   ]
  },
  {
   "cell_type": "code",
   "execution_count": null,
   "metadata": {},
   "outputs": [],
   "source": [
    "def diagonolize(ssdd):\n",
    "    longer_axis = max(ssdd.shape[1],ssdd.shape[0])\n",
    "    diags= [ssdd.diagonal(i) for i in range(-longer_axis,longer_axis)]\n",
    "    return diags"
   ]
  },
  {
   "cell_type": "code",
   "execution_count": null,
   "metadata": {},
   "outputs": [],
   "source": [
    "def undiagonlize(orig_ssdd_shape,diags):\n",
    "    xv, yv = np.meshgrid(range(orig_ssdd_shape[1]), range(orig_ssdd_shape[0]), sparse=False, indexing='ij')\n",
    "    inds = np.stack([xv,yv]).T\n",
    "    longer_axis = max(orig_ssdd_shape)\n",
    "    diags_inds = np.concatenate([inds.diagonal(i) for i in range(-longer_axis,longer_axis)],axis=1)\n",
    "    diags_c = np.concatenate(diags,axis=1)\n",
    "    z = np.zeros(orig_ssdd_shape)\n",
    "    z[diags_inds[1],diags_inds[0]] = diags_c.T\n",
    "    return z"
   ]
  },
  {
   "cell_type": "code",
   "execution_count": null,
   "metadata": {},
   "outputs": [],
   "source": [
    "s[:,:,0]"
   ]
  },
  {
   "cell_type": "code",
   "execution_count": null,
   "metadata": {},
   "outputs": [],
   "source": [
    "diagonolize(s[:,:,0])"
   ]
  },
  {
   "cell_type": "code",
   "execution_count": null,
   "metadata": {},
   "outputs": [],
   "source": [
    "np.fliplr(ssdd).shape"
   ]
  },
  {
   "cell_type": "code",
   "execution_count": null,
   "metadata": {},
   "outputs": [],
   "source": [
    "diagonolize(np.fliplr(s[:,:,0]))"
   ]
  },
  {
   "cell_type": "code",
   "execution_count": null,
   "metadata": {},
   "outputs": [],
   "source": [
    "s[:,:,0]"
   ]
  },
  {
   "cell_type": "code",
   "execution_count": null,
   "metadata": {},
   "outputs": [],
   "source": [
    "graded_diags = [dp_grade_slice(diag,p1,p2) for diag in diags if diag.shape[1]>0]"
   ]
  },
  {
   "cell_type": "code",
   "execution_count": null,
   "metadata": {},
   "outputs": [],
   "source": [
    "res = undiagonlize(ssdd.shape,graded_diags)"
   ]
  },
  {
   "cell_type": "code",
   "execution_count": null,
   "metadata": {},
   "outputs": [],
   "source": [
    "res.shape"
   ]
  },
  {
   "cell_type": "code",
   "execution_count": null,
   "metadata": {},
   "outputs": [],
   "source": [
    "plt.imshow(res.argmin(axis=-1))"
   ]
  },
  {
   "cell_type": "code",
   "execution_count": null,
   "metadata": {},
   "outputs": [],
   "source": []
  }
 ],
 "metadata": {
  "kernelspec": {
   "display_name": "cv_env",
   "language": "python",
   "name": "cv_env"
  },
  "language_info": {
   "codemirror_mode": {
    "name": "ipython",
    "version": 3
   },
   "file_extension": ".py",
   "mimetype": "text/x-python",
   "name": "python",
   "nbconvert_exporter": "python",
   "pygments_lexer": "ipython3",
   "version": "3.9.6"
  }
 },
 "nbformat": 4,
 "nbformat_minor": 4
}
